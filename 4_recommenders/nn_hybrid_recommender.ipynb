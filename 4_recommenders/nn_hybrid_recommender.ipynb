{
  "cells": [
    {
      "cell_type": "markdown",
      "id": "923261bb",
      "metadata": {
        "id": "923261bb"
      },
      "source": [
        "<a href='https://ai.meng.duke.edu'> = <img align=\"left\" style=\"padding-top:10px;\" src=https://storage.googleapis.com/aipi_datasets/Duke-AIPI-Logo.png>"
      ]
    },
    {
      "cell_type": "markdown",
      "id": "VIlwuI_g8nJi",
      "metadata": {
        "id": "VIlwuI_g8nJi"
      },
      "source": [
        "# Collaborative Filtering Using a Neural Network\n",
        "In this exercise we will demonstrate the use of a shallow neural network to generate predicted ratings.  We will demonstrate this on a subset of the [MovieLens](https://grouplens.org/datasets/movielens/) dataset containing 100,000 movie ratings.  In this example our dataset includes only previous ratings of movies by users - since we are not using any information about the users other than their past ratings, we must apply a collaborative filtering approach instead of content filtering.\n",
        "\n",
        "Similar to PMF, we make the assumption that users have a set of \"latent factors\" which relate to their preferences for certain types of an item.  In the case of movie recommendations, these latent factors would relate to a user's preference for types of movies, e.g. which genres they like to watch - romances, comedies etc.  Likewise the items (movie, in this case) also have a set of latent factors related to their characteristics.  Possible latent factors for movies might be genres or decade produced.  \n",
        "\n",
        "Like PMF we create an \"embedding\" for each user and for each item.  We can choose the dimensionality of the embeddings we create, which helps us control the complexity of the model.  These embeddings are then learned for each user and item during the training process, and they ultimately are able to represent the values of the latent factors learned.  \n",
        "\n",
        "We then concatenate the user and item embeddings together and feed them through a shallow neural network to generate a predicted rating for each user-item pair.  A benefit of this approach relative to PMF is that we can also incorporate other information about users or movies if we have it, which can help us solve the \"cold start\" problem we encounter when we add a new user to the system for whom we have no prior ratings, or we add a new movie to the system which has not yet been rated by anyone.\n",
        "\n",
        "**Notes:** \n",
        "- This should be run on GPU.  It can be run on CPU but will take ~30 minutes.\n",
        "\n",
        "**References:**  \n",
        "- Review the details on the MovieLens dataset [here](https://grouplens.org/datasets/movielens/)  "
      ]
    },
    {
      "cell_type": "code",
      "execution_count": 1,
      "id": "P__vj3-38nJk",
      "metadata": {
        "id": "P__vj3-38nJk"
      },
      "outputs": [],
      "source": [
        "import os\n",
        "import urllib\n",
        "import zipfile\n",
        "import time\n",
        "\n",
        "import torch\n",
        "import numpy as np\n",
        "import pandas as pd\n",
        "import torch.nn as nn\n",
        "import torch.nn.functional as F\n",
        "import torch.optim as optim\n",
        "from torch.utils.data import DataLoader, TensorDataset\n",
        "from sklearn.model_selection import train_test_split\n",
        "from sklearn.preprocessing import LabelEncoder\n",
        "import matplotlib.pyplot as plt"
      ]
    },
    {
      "cell_type": "markdown",
      "id": "401190b8",
      "metadata": {
        "id": "401190b8"
      },
      "source": [
        "## Prepare the data"
      ]
    },
    {
      "cell_type": "code",
      "execution_count": 2,
      "id": "8750063e",
      "metadata": {
        "id": "8750063e"
      },
      "outputs": [],
      "source": [
        "# Download the data from the GroupLens website\n",
        "datapath = './data/ml-latest-small'\n",
        "\n",
        "if not os.path.exists('./data'):\n",
        "    os.makedirs('./data')\n",
        "if not os.path.exists(datapath):\n",
        "    url = 'https://files.grouplens.org/datasets/movielens/ml-latest-small.zip'\n",
        "    urllib.request.urlretrieve(url,filename='data/ml-latest-small.zip')\n",
        "    zip_ref = zipfile.ZipFile('data/ml-latest-small.zip', 'r')\n",
        "    zip_ref.extractall('data/')\n",
        "    zip_ref.close()"
      ]
    },
    {
      "cell_type": "code",
      "execution_count": 3,
      "id": "a23ce03f",
      "metadata": {
        "colab": {
          "base_uri": "https://localhost:8080/",
          "height": 204
        },
        "id": "a23ce03f",
        "outputId": "5567894d-ec68-4eac-c304-7cbbcc88211e"
      },
      "outputs": [
        {
          "output_type": "execute_result",
          "data": {
            "text/plain": [
              "   userId  movieId                                       genres  rating\n",
              "0       1        1  Adventure|Animation|Children|Comedy|Fantasy     4.0\n",
              "1       5        1  Adventure|Animation|Children|Comedy|Fantasy     4.0\n",
              "2       7        1  Adventure|Animation|Children|Comedy|Fantasy     4.5\n",
              "3      15        1  Adventure|Animation|Children|Comedy|Fantasy     2.5\n",
              "4      17        1  Adventure|Animation|Children|Comedy|Fantasy     4.5"
            ],
            "text/html": [
              "\n",
              "  <div id=\"df-3b4ac459-7b0e-4b48-9a00-b3cdda11fb0a\">\n",
              "    <div class=\"colab-df-container\">\n",
              "      <div>\n",
              "<style scoped>\n",
              "    .dataframe tbody tr th:only-of-type {\n",
              "        vertical-align: middle;\n",
              "    }\n",
              "\n",
              "    .dataframe tbody tr th {\n",
              "        vertical-align: top;\n",
              "    }\n",
              "\n",
              "    .dataframe thead th {\n",
              "        text-align: right;\n",
              "    }\n",
              "</style>\n",
              "<table border=\"1\" class=\"dataframe\">\n",
              "  <thead>\n",
              "    <tr style=\"text-align: right;\">\n",
              "      <th></th>\n",
              "      <th>userId</th>\n",
              "      <th>movieId</th>\n",
              "      <th>genres</th>\n",
              "      <th>rating</th>\n",
              "    </tr>\n",
              "  </thead>\n",
              "  <tbody>\n",
              "    <tr>\n",
              "      <th>0</th>\n",
              "      <td>1</td>\n",
              "      <td>1</td>\n",
              "      <td>Adventure|Animation|Children|Comedy|Fantasy</td>\n",
              "      <td>4.0</td>\n",
              "    </tr>\n",
              "    <tr>\n",
              "      <th>1</th>\n",
              "      <td>5</td>\n",
              "      <td>1</td>\n",
              "      <td>Adventure|Animation|Children|Comedy|Fantasy</td>\n",
              "      <td>4.0</td>\n",
              "    </tr>\n",
              "    <tr>\n",
              "      <th>2</th>\n",
              "      <td>7</td>\n",
              "      <td>1</td>\n",
              "      <td>Adventure|Animation|Children|Comedy|Fantasy</td>\n",
              "      <td>4.5</td>\n",
              "    </tr>\n",
              "    <tr>\n",
              "      <th>3</th>\n",
              "      <td>15</td>\n",
              "      <td>1</td>\n",
              "      <td>Adventure|Animation|Children|Comedy|Fantasy</td>\n",
              "      <td>2.5</td>\n",
              "    </tr>\n",
              "    <tr>\n",
              "      <th>4</th>\n",
              "      <td>17</td>\n",
              "      <td>1</td>\n",
              "      <td>Adventure|Animation|Children|Comedy|Fantasy</td>\n",
              "      <td>4.5</td>\n",
              "    </tr>\n",
              "  </tbody>\n",
              "</table>\n",
              "</div>\n",
              "      <button class=\"colab-df-convert\" onclick=\"convertToInteractive('df-3b4ac459-7b0e-4b48-9a00-b3cdda11fb0a')\"\n",
              "              title=\"Convert this dataframe to an interactive table.\"\n",
              "              style=\"display:none;\">\n",
              "        \n",
              "  <svg xmlns=\"http://www.w3.org/2000/svg\" height=\"24px\"viewBox=\"0 0 24 24\"\n",
              "       width=\"24px\">\n",
              "    <path d=\"M0 0h24v24H0V0z\" fill=\"none\"/>\n",
              "    <path d=\"M18.56 5.44l.94 2.06.94-2.06 2.06-.94-2.06-.94-.94-2.06-.94 2.06-2.06.94zm-11 1L8.5 8.5l.94-2.06 2.06-.94-2.06-.94L8.5 2.5l-.94 2.06-2.06.94zm10 10l.94 2.06.94-2.06 2.06-.94-2.06-.94-.94-2.06-.94 2.06-2.06.94z\"/><path d=\"M17.41 7.96l-1.37-1.37c-.4-.4-.92-.59-1.43-.59-.52 0-1.04.2-1.43.59L10.3 9.45l-7.72 7.72c-.78.78-.78 2.05 0 2.83L4 21.41c.39.39.9.59 1.41.59.51 0 1.02-.2 1.41-.59l7.78-7.78 2.81-2.81c.8-.78.8-2.07 0-2.86zM5.41 20L4 18.59l7.72-7.72 1.47 1.35L5.41 20z\"/>\n",
              "  </svg>\n",
              "      </button>\n",
              "      \n",
              "  <style>\n",
              "    .colab-df-container {\n",
              "      display:flex;\n",
              "      flex-wrap:wrap;\n",
              "      gap: 12px;\n",
              "    }\n",
              "\n",
              "    .colab-df-convert {\n",
              "      background-color: #E8F0FE;\n",
              "      border: none;\n",
              "      border-radius: 50%;\n",
              "      cursor: pointer;\n",
              "      display: none;\n",
              "      fill: #1967D2;\n",
              "      height: 32px;\n",
              "      padding: 0 0 0 0;\n",
              "      width: 32px;\n",
              "    }\n",
              "\n",
              "    .colab-df-convert:hover {\n",
              "      background-color: #E2EBFA;\n",
              "      box-shadow: 0px 1px 2px rgba(60, 64, 67, 0.3), 0px 1px 3px 1px rgba(60, 64, 67, 0.15);\n",
              "      fill: #174EA6;\n",
              "    }\n",
              "\n",
              "    [theme=dark] .colab-df-convert {\n",
              "      background-color: #3B4455;\n",
              "      fill: #D2E3FC;\n",
              "    }\n",
              "\n",
              "    [theme=dark] .colab-df-convert:hover {\n",
              "      background-color: #434B5C;\n",
              "      box-shadow: 0px 1px 3px 1px rgba(0, 0, 0, 0.15);\n",
              "      filter: drop-shadow(0px 1px 2px rgba(0, 0, 0, 0.3));\n",
              "      fill: #FFFFFF;\n",
              "    }\n",
              "  </style>\n",
              "\n",
              "      <script>\n",
              "        const buttonEl =\n",
              "          document.querySelector('#df-3b4ac459-7b0e-4b48-9a00-b3cdda11fb0a button.colab-df-convert');\n",
              "        buttonEl.style.display =\n",
              "          google.colab.kernel.accessAllowed ? 'block' : 'none';\n",
              "\n",
              "        async function convertToInteractive(key) {\n",
              "          const element = document.querySelector('#df-3b4ac459-7b0e-4b48-9a00-b3cdda11fb0a');\n",
              "          const dataTable =\n",
              "            await google.colab.kernel.invokeFunction('convertToInteractive',\n",
              "                                                     [key], {});\n",
              "          if (!dataTable) return;\n",
              "\n",
              "          const docLinkHtml = 'Like what you see? Visit the ' +\n",
              "            '<a target=\"_blank\" href=https://colab.research.google.com/notebooks/data_table.ipynb>data table notebook</a>'\n",
              "            + ' to learn more about interactive tables.';\n",
              "          element.innerHTML = '';\n",
              "          dataTable['output_type'] = 'display_data';\n",
              "          await google.colab.output.renderOutput(dataTable, element);\n",
              "          const docLink = document.createElement('div');\n",
              "          docLink.innerHTML = docLinkHtml;\n",
              "          element.appendChild(docLink);\n",
              "        }\n",
              "      </script>\n",
              "    </div>\n",
              "  </div>\n",
              "  "
            ]
          },
          "metadata": {},
          "execution_count": 3
        }
      ],
      "source": [
        "# Load data\n",
        "ratings = pd.read_csv(os.path.join(datapath,'ratings.csv'))\n",
        "movies = pd.read_csv(os.path.join(datapath,'movies.csv'))\n",
        "ratings = ratings.merge(movies,on='movieId')\n",
        "ratings = ratings[['userId','movieId','genres','rating']]\n",
        "ratings.head()"
      ]
    },
    {
      "cell_type": "markdown",
      "id": "ef3c75ea",
      "metadata": {
        "id": "ef3c75ea"
      },
      "source": [
        "As we can see above, our dataset consists of user IDs, movie IDs of movies they have rated, the genres of the movie, and the user's rating for each movie.  We will now split our data into the input data (user IDs and movie IDs) and the target we are trying to predict (the ratings).  We will then split our data to create a validation set."
      ]
    },
    {
      "cell_type": "code",
      "execution_count": 4,
      "id": "8fb47c9f",
      "metadata": {
        "id": "8fb47c9f"
      },
      "outputs": [],
      "source": [
        "# df = ratings.genres.str.split('|',expand=True).stack().str.get_dummies().sum(level=0)\n",
        "encoder = LabelEncoder()\n",
        "encoder.fit(ratings['genres'])\n",
        "ratings['genres'] = encoder.transform(ratings['genres'])"
      ]
    },
    {
      "cell_type": "code",
      "execution_count": 5,
      "id": "072209a9",
      "metadata": {
        "id": "072209a9"
      },
      "outputs": [],
      "source": [
        "X = ratings.loc[:,['userId','movieId','genres']]\n",
        "y = ratings.loc[:,'rating']\n",
        "\n",
        "# Split our data into training and test sets\n",
        "X_train, X_val, y_train, y_val = train_test_split(X,y,random_state=0, test_size=0.2)"
      ]
    },
    {
      "cell_type": "markdown",
      "id": "d3f70596",
      "metadata": {
        "id": "d3f70596"
      },
      "source": [
        "We can now put our data into PyTorch DataLoaders as we have done before with tabular data."
      ]
    },
    {
      "cell_type": "code",
      "execution_count": 6,
      "id": "44b041d6",
      "metadata": {
        "id": "44b041d6"
      },
      "outputs": [],
      "source": [
        "def prep_dataloaders(X_train,y_train,X_val,y_val,batch_size):\n",
        "    # Convert training and test data to TensorDatasets\n",
        "    trainset = TensorDataset(torch.from_numpy(np.array(X_train)).long(), \n",
        "                            torch.from_numpy(np.array(y_train)).float())\n",
        "    valset = TensorDataset(torch.from_numpy(np.array(X_val)).long(), \n",
        "                            torch.from_numpy(np.array(y_val)).float())\n",
        "\n",
        "    # Create Dataloaders for our training and test data to allow us to iterate over minibatches \n",
        "    trainloader = torch.utils.data.DataLoader(trainset, batch_size=batch_size, shuffle=True)\n",
        "    valloader = torch.utils.data.DataLoader(valset, batch_size=batch_size, shuffle=False)\n",
        "\n",
        "    return trainloader, valloader\n",
        "\n",
        "batchsize = 64\n",
        "trainloader,valloader = prep_dataloaders(X_train,y_train,X_val,y_val,batchsize)"
      ]
    },
    {
      "cell_type": "markdown",
      "id": "f8a4ace0",
      "metadata": {
        "id": "f8a4ace0"
      },
      "source": [
        "## Define model architecture\n",
        "We will create our own architecture for our NN-based recommendation system.  It should include embeddings for the users and items of a specified dimensionality.  However, unlike PMF where we took the dot product of a user embedding and an item embedding to get the predicted rating, we will now instead concatenate the user embedding and item embedding together.  We then pass the concatenated embedding for the user-item pair through two linear layers with a ReLu activation in between.  The output from the second linear layer is our prediction.  We commonly use a sigmoid function and scale the range of predictions to constrain it within our expected range (e.g. 0 to 5 stars)."
      ]
    },
    {
      "cell_type": "code",
      "execution_count": 7,
      "id": "08fad98d",
      "metadata": {
        "id": "08fad98d"
      },
      "outputs": [],
      "source": [
        "class NNRecommender2(nn.Module):\n",
        "    \n",
        "    def __init__(self, n_users, n_items, n_genres, embdim_users, embdim_items, embdim_genres, n_activations, rating_range):\n",
        "        super().__init__()\n",
        "        self.user_embeddings = nn.Embedding(num_embeddings=n_users,embedding_dim=embdim_users)\n",
        "        self.item_embeddings = nn.Embedding(num_embeddings=n_items,embedding_dim=embdim_items)\n",
        "        self.genre_embeddings = nn.Embedding(num_embeddings=n_genres,embedding_dim=embdim_genres)\n",
        "        self.fc1 = nn.Linear(embdim_users+embdim_items+embdim_genres,n_activations)\n",
        "        self.fc2 = nn.Linear(n_activations,1)\n",
        "        self.rating_range = rating_range\n",
        "\n",
        "    def forward(self, X):\n",
        "        # Get embeddings for minibatch\n",
        "        embedded_users = self.user_embeddings(X[:,0])\n",
        "        embedded_items = self.item_embeddings(X[:,1])\n",
        "        embedded_genres = self.genre_embeddings(X[:,2])\n",
        "        # Concatenate user, item and genre embeddings\n",
        "        embeddings = torch.cat([embedded_users,embedded_items,embedded_genres],dim=1)\n",
        "        # Pass embeddings through network\n",
        "        preds = self.fc1(embeddings)\n",
        "        preds = F.relu(preds)\n",
        "        preds = self.fc2(preds)\n",
        "        # Scale predicted ratings to target-range [low,high]\n",
        "        preds = torch.sigmoid(preds) * (self.rating_range[1]-self.rating_range[0]) + self.rating_range[0]\n",
        "        return preds\n",
        "        \n"
      ]
    },
    {
      "cell_type": "code",
      "execution_count": 8,
      "id": "9e38d014",
      "metadata": {
        "id": "9e38d014"
      },
      "outputs": [],
      "source": [
        "def train_model(model, criterion, optimizer, dataloaders, device, num_epochs=5, scheduler=None):\n",
        "    model = model.to(device) # Send model to GPU if available\n",
        "    since = time.time()\n",
        "\n",
        "    costpaths = {'train':[],'val':[]}\n",
        "\n",
        "    for epoch in range(num_epochs):\n",
        "        print('Epoch {}/{}'.format(epoch, num_epochs - 1))\n",
        "        print('-' * 10)\n",
        "\n",
        "        # Each epoch has a training and validation phase\n",
        "        for phase in ['train', 'val']:\n",
        "            if phase == 'train':\n",
        "                model.train()  # Set model to training mode\n",
        "            else:\n",
        "                model.eval()   # Set model to evaluate mode\n",
        "\n",
        "            running_loss = 0.0\n",
        "\n",
        "            # Get the input images and labels, and send to GPU if available\n",
        "            for (inputs,labels) in dataloaders[phase]:\n",
        "                inputs = inputs.to(device)\n",
        "                labels = labels.to(device)\n",
        "\n",
        "                # Zero the weight gradients\n",
        "                optimizer.zero_grad()\n",
        "\n",
        "                # Forward pass to get outputs and calculate loss\n",
        "                # Track gradient only for training data\n",
        "                with torch.set_grad_enabled(phase == 'train'):\n",
        "                    outputs = model.forward(inputs).view(-1)\n",
        "                    loss = criterion(outputs, labels)\n",
        "\n",
        "                    # Backpropagation to get the gradients with respect to each weight\n",
        "                    # Only if in train\n",
        "                    if phase == 'train':\n",
        "                        loss.backward()\n",
        "                        # Update the weights\n",
        "                        optimizer.step()\n",
        "\n",
        "                # Convert loss into a scalar and add it to running_loss\n",
        "                running_loss += loss.item() * labels.size(0)\n",
        "\n",
        "            # Step along learning rate scheduler when in train\n",
        "            if (phase == 'train') and (scheduler is not None):\n",
        "                scheduler.step()\n",
        "\n",
        "            # Calculate and display average loss and accuracy for the epoch\n",
        "            epoch_loss = running_loss / len(dataloaders[phase].dataset)\n",
        "            costpaths[phase].append(epoch_loss)\n",
        "            print('{} loss: {:.4f}'.format(phase, epoch_loss))\n",
        "\n",
        "    time_elapsed = time.time() - since\n",
        "    print('Training complete in {:.0f}m {:.0f}s'.format(\n",
        "        time_elapsed // 60, time_elapsed % 60))\n",
        "\n",
        "    return costpaths"
      ]
    },
    {
      "cell_type": "code",
      "execution_count": 9,
      "id": "d7f7b44a",
      "metadata": {
        "colab": {
          "base_uri": "https://localhost:8080/"
        },
        "id": "d7f7b44a",
        "outputId": "12420fc3-fab3-4507-c716-537bad540960"
      },
      "outputs": [
        {
          "output_type": "stream",
          "name": "stdout",
          "text": [
            "Epoch 0/9\n",
            "----------\n",
            "train loss: 0.9436\n",
            "val loss: 0.8657\n",
            "Epoch 1/9\n",
            "----------\n",
            "train loss: 0.8233\n",
            "val loss: 0.7970\n",
            "Epoch 2/9\n",
            "----------\n",
            "train loss: 0.7648\n",
            "val loss: 0.7630\n",
            "Epoch 3/9\n",
            "----------\n",
            "train loss: 0.7290\n",
            "val loss: 0.7431\n",
            "Epoch 4/9\n",
            "----------\n",
            "train loss: 0.7038\n",
            "val loss: 0.7352\n",
            "Epoch 5/9\n",
            "----------\n",
            "train loss: 0.6836\n",
            "val loss: 0.7292\n",
            "Epoch 6/9\n",
            "----------\n",
            "train loss: 0.6712\n",
            "val loss: 0.7271\n",
            "Epoch 7/9\n",
            "----------\n",
            "train loss: 0.6580\n",
            "val loss: 0.7247\n",
            "Epoch 8/9\n",
            "----------\n",
            "train loss: 0.6468\n",
            "val loss: 0.7217\n",
            "Epoch 9/9\n",
            "----------\n",
            "train loss: 0.6362\n",
            "val loss: 0.7210\n",
            "Training complete in 0m 46s\n"
          ]
        }
      ],
      "source": [
        "dataloaders = {'train':trainloader, 'val':valloader}\n",
        "\n",
        "n_users = X.loc[:,'userId'].max()+1\n",
        "n_items = X.loc[:,'movieId'].max()+1\n",
        "n_genres = X.loc[:,'genres'].max()+1\n",
        "model = NNRecommender2(n_users,\n",
        "                       n_items,\n",
        "                       n_genres,\n",
        "                       embdim_users=50, \n",
        "                       embdim_items=50, \n",
        "                       embdim_genres=25,\n",
        "                       n_activations = 100,\n",
        "                       rating_range=[0.,5.])\n",
        "\n",
        "criterion = nn.MSELoss()\n",
        "lr=0.001\n",
        "n_epochs=10\n",
        "wd=1e-3\n",
        "optimizer = optim.Adam(model.parameters(), lr=lr, weight_decay=wd)\n",
        "device = torch.device(\"cuda\" if torch.cuda.is_available() else \"cpu\")\n",
        "\n",
        "cost_paths = train_model(model,criterion,optimizer,dataloaders, device,n_epochs, scheduler=None)\n"
      ]
    },
    {
      "cell_type": "code",
      "execution_count": 10,
      "id": "5567b00d",
      "metadata": {
        "colab": {
          "base_uri": "https://localhost:8080/",
          "height": 350
        },
        "id": "5567b00d",
        "outputId": "65da6bf1-d703-49e4-b635-98fab35e8f42"
      },
      "outputs": [
        {
          "output_type": "display_data",
          "data": {
            "text/plain": [
              "<Figure size 1080x360 with 2 Axes>"
            ],
            "image/png": "[encoded data removed]"
          },
          "metadata": {
            "needs_background": "light"
          }
        }
      ],
      "source": [
        "# Plot the cost over training and validation sets\n",
        "fig,ax = plt.subplots(1,2,figsize=(15,5))\n",
        "for i,key in enumerate(cost_paths.keys()):\n",
        "    ax_sub=ax[i%3]\n",
        "    ax_sub.plot(cost_paths[key])\n",
        "    ax_sub.set_title(key)\n",
        "    ax_sub.set_xlabel('Epoch')\n",
        "    ax_sub.set_ylabel('Loss')\n",
        "plt.show()"
      ]
    },
    {
      "cell_type": "markdown",
      "id": "ec7eb2f2",
      "metadata": {
        "id": "ec7eb2f2"
      },
      "source": [
        "## Get predicted rating for a user-movie pair\n",
        "Now that our model is trained we can use it to generate predicted ratings of a given user for a given movie.  To do so we simply feed a user-item pair into our model and get the predicted rating.  We could also do other things such as determine which movie (out of all movies in our set) a particular user might rate the highest, and recommend that to him/her."
      ]
    },
    {
      "cell_type": "code",
      "execution_count": 20,
      "id": "9d797ebc",
      "metadata": {
        "colab": {
          "base_uri": "https://localhost:8080/"
        },
        "id": "9d797ebc",
        "outputId": "44e33aee-33d1-4c5a-f839-1b4ed12dee89"
      },
      "outputs": [
        {
          "output_type": "stream",
          "name": "stdout",
          "text": [
            "Predicted rating is 3.2\n"
          ]
        }
      ],
      "source": [
        "def predict_rating(model, userId, movieId, genre, encoder, device):\n",
        "    # Encode genre\n",
        "    genre = encoder.transform(np.array(genre).reshape(-1))\n",
        "    # Get predicted rating\n",
        "    model = model.to(device)\n",
        "    with torch.no_grad():\n",
        "        model.eval()\n",
        "        X = torch.Tensor([userId,movieId,genre]).long().view(1,-1)\n",
        "        X = X.to(device)\n",
        "        pred = model.forward(X)\n",
        "        return pred\n",
        "\n",
        "rating = predict_rating(model,userId=5,movieId=10,genre='Action|Adventure|Thriller',encoder=encoder, device=device)\n",
        "print('Predicted rating is {:.1f}'.format(rating.detach().cpu().item()))"
      ]
    },
    {
      "cell_type": "code",
      "execution_count": null,
      "id": "tqS0nDp4-TWL",
      "metadata": {
        "id": "tqS0nDp4-TWL"
      },
      "outputs": [],
      "source": [
        ""
      ]
    }
  ],
  "metadata": {
    "accelerator": "GPU",
    "colab": {
      "name": "nn_collab_filtering.ipynb",
      "provenance": []
    },
    "kernelspec": {
      "display_name": "Python 3",
      "language": "python",
      "name": "python3"
    },
    "language_info": {
      "codemirror_mode": {
        "name": "ipython",
        "version": 3
      },
      "file_extension": ".py",
      "mimetype": "text/x-python",
      "name": "python",
      "nbconvert_exporter": "python",
      "pygments_lexer": "ipython3",
      "version": "3.9.7"
    }
  },
  "nbformat": 4,
  "nbformat_minor": 5
}