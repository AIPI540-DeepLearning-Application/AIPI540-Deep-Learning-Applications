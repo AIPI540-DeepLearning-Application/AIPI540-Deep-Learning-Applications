{
 "cells": [
  {
   "cell_type": "markdown",
   "id": "923261bb",
   "metadata": {},
   "source": [
    "<a href='https://ai.meng.duke.edu'> = <img align=\"left\" style=\"padding-top:10px;\" src=https://storage.googleapis.com/aipi_datasets/Duke-AIPI-Logo.png>"
   ]
  },
  {
   "cell_type": "markdown",
   "metadata": {},
   "source": [
    "# Recommendations using Collaborative Filtering\n",
    "\n",
    "**Notes:** \n",
    "- This should be run on GPU\n",
    "\n",
    "**References:**  \n",
    "- Review the details on the MovieLens dataset [here](https://grouplens.org/datasets/movielens/)"
   ]
  },
  {
   "cell_type": "code",
   "execution_count": 112,
   "metadata": {},
   "outputs": [],
   "source": [
    "import os\n",
    "import urllib\n",
    "import zipfile\n",
    "import time\n",
    "\n",
    "import torch\n",
    "import numpy as np\n",
    "import pandas as pd\n",
    "import torch.nn as nn\n",
    "import torch.nn.functional as F\n",
    "import torch.optim as optim\n",
    "from torch.utils.data import DataLoader, TensorDataset\n",
    "from sklearn.model_selection import train_test_split\n",
    "import matplotlib.pyplot as plt"
   ]
  },
  {
   "cell_type": "markdown",
   "id": "401190b8",
   "metadata": {},
   "source": [
    "## Prepare the data"
   ]
  },
  {
   "cell_type": "code",
   "execution_count": 9,
   "id": "8750063e",
   "metadata": {},
   "outputs": [],
   "source": [
    "# Download the data from the GroupLens website\n",
    "datapath = './data/ml-latest-small'\n",
    "\n",
    "if not os.path.exists('./data'):\n",
    "    os.makedirs('./data')\n",
    "if not os.path.exists(datapath):\n",
    "    url = 'https://files.grouplens.org/datasets/movielens/ml-latest-small.zip'\n",
    "    urllib.request.urlretrieve(url,filename='data/ml-latest-small.zip')\n",
    "    zip_ref = zipfile.ZipFile('data/ml-latest-small.zip', 'r')\n",
    "    zip_ref.extractall('data/')\n",
    "    zip_ref.close()"
   ]
  },
  {
   "cell_type": "code",
   "execution_count": 123,
   "id": "a23ce03f",
   "metadata": {},
   "outputs": [
    {
     "data": {
      "text/html": [
       "<div>\n",
       "<style scoped>\n",
       "    .dataframe tbody tr th:only-of-type {\n",
       "        vertical-align: middle;\n",
       "    }\n",
       "\n",
       "    .dataframe tbody tr th {\n",
       "        vertical-align: top;\n",
       "    }\n",
       "\n",
       "    .dataframe thead th {\n",
       "        text-align: right;\n",
       "    }\n",
       "</style>\n",
       "<table border=\"1\" class=\"dataframe\">\n",
       "  <thead>\n",
       "    <tr style=\"text-align: right;\">\n",
       "      <th></th>\n",
       "      <th>userId</th>\n",
       "      <th>movieId</th>\n",
       "      <th>rating</th>\n",
       "    </tr>\n",
       "  </thead>\n",
       "  <tbody>\n",
       "    <tr>\n",
       "      <th>0</th>\n",
       "      <td>1</td>\n",
       "      <td>1</td>\n",
       "      <td>4.0</td>\n",
       "    </tr>\n",
       "    <tr>\n",
       "      <th>1</th>\n",
       "      <td>1</td>\n",
       "      <td>3</td>\n",
       "      <td>4.0</td>\n",
       "    </tr>\n",
       "    <tr>\n",
       "      <th>2</th>\n",
       "      <td>1</td>\n",
       "      <td>6</td>\n",
       "      <td>4.0</td>\n",
       "    </tr>\n",
       "    <tr>\n",
       "      <th>3</th>\n",
       "      <td>1</td>\n",
       "      <td>47</td>\n",
       "      <td>5.0</td>\n",
       "    </tr>\n",
       "    <tr>\n",
       "      <th>4</th>\n",
       "      <td>1</td>\n",
       "      <td>50</td>\n",
       "      <td>5.0</td>\n",
       "    </tr>\n",
       "  </tbody>\n",
       "</table>\n",
       "</div>"
      ],
      "text/plain": [
       "   userId  movieId  rating\n",
       "0       1        1     4.0\n",
       "1       1        3     4.0\n",
       "2       1        6     4.0\n",
       "3       1       47     5.0\n",
       "4       1       50     5.0"
      ]
     },
     "execution_count": 123,
     "metadata": {},
     "output_type": "execute_result"
    }
   ],
   "source": [
    "# Load data\n",
    "ratings = pd.read_csv(os.path.join(datapath,'ratings.csv'))\n",
    "ratings = ratings.loc[:,['userId','movieId','rating']]\n",
    "ratings.head()"
   ]
  },
  {
   "cell_type": "code",
   "execution_count": 115,
   "id": "072209a9",
   "metadata": {},
   "outputs": [],
   "source": [
    "X = ratings.loc[:,['userId','movieId']]\n",
    "y = ratings.loc[:,'rating']\n",
    "\n",
    "# Split our data into training and test sets\n",
    "X_train, X_val, y_train, y_val = train_test_split(X,y,random_state=0, test_size=0.2)"
   ]
  },
  {
   "cell_type": "code",
   "execution_count": 116,
   "id": "44b041d6",
   "metadata": {},
   "outputs": [],
   "source": [
    "def prep_dataloaders(X_train,y_train,X_val,y_val,batch_size):\n",
    "    # Convert training and test data to TensorDatasets\n",
    "    trainset = TensorDataset(torch.from_numpy(np.array(X_train)).long(), \n",
    "                            torch.from_numpy(np.array(y_train)).float())\n",
    "    valset = TensorDataset(torch.from_numpy(np.array(X_val)).long(), \n",
    "                            torch.from_numpy(np.array(y_val)).float())\n",
    "\n",
    "    # Create Dataloaders for our training and test data to allow us to iterate over minibatches \n",
    "    trainloader = torch.utils.data.DataLoader(trainset, batch_size=batch_size, shuffle=True)\n",
    "    valloader = torch.utils.data.DataLoader(valset, batch_size=batch_size, shuffle=False)\n",
    "\n",
    "    return trainloader, valloader\n",
    "\n",
    "batchsize = 64\n",
    "trainloader,valloader = prep_dataloaders(X_train,y_train,X_val,y_val,batchsize)"
   ]
  },
  {
   "cell_type": "markdown",
   "id": "f8a4ace0",
   "metadata": {},
   "source": [
    "## Probabilistic Matrix Factorization (PMF) approach"
   ]
  },
  {
   "cell_type": "code",
   "execution_count": 117,
   "id": "08fad98d",
   "metadata": {},
   "outputs": [],
   "source": [
    "class PMFRecommender(nn.Module):\n",
    "    \n",
    "    def __init__(self,n_users, n_items, embedding_dim ,rating_range):\n",
    "        super().__init__()\n",
    "        self.user_embeddings = nn.Embedding(num_embeddings=n_users,embedding_dim=embedding_dim)\n",
    "        self.user_bias = nn.Embedding(num_embeddings=n_users,embedding_dim=1)\n",
    "        self.item_embeddings = nn.Embedding(num_embeddings=n_items,embedding_dim=embedding_dim)\n",
    "        self.item_bias = nn.Embedding(num_embeddings=n_items,embedding_dim=1)\n",
    "        self.rating_range = rating_range\n",
    "\n",
    "    def forward(self, X):\n",
    "        embedded_users = self.user_embeddings(X[:,0])\n",
    "        embedded_items = self.item_embeddings(X[:,1])\n",
    "        # Take dot product of each user embedding with the embedding of item to be rated to get the predicted rating\n",
    "        preds = torch.sum(embedded_users * embedded_items, dim=1, keepdim=True) \n",
    "        # Add user and item bias to rating\n",
    "        preds = preds.view(-1,1) + self.user_bias(X[:,0]) + self.item_bias(X[:,1])\n",
    "        # Scale predicted ratings to target-range [low,high]\n",
    "        preds = torch.sigmoid(preds) * (self.rating_range[1]-self.rating_range[0]) + self.rating_range[0]\n",
    "        return preds\n",
    "        \n"
   ]
  },
  {
   "cell_type": "code",
   "execution_count": 121,
   "id": "9e38d014",
   "metadata": {},
   "outputs": [],
   "source": [
    "def train_model(model, criterion, optimizer, dataloaders, device, num_epochs=5, scheduler=None):\n",
    "    model = model.to(device) # Send model to GPU if available\n",
    "    since = time.time()\n",
    "\n",
    "    costpaths = {'train':[],'val':[]}\n",
    "\n",
    "    for epoch in range(num_epochs):\n",
    "        print('Epoch {}/{}'.format(epoch, num_epochs - 1))\n",
    "        print('-' * 10)\n",
    "\n",
    "        # Each epoch has a training and validation phase\n",
    "        for phase in ['train', 'val']:\n",
    "            if phase == 'train':\n",
    "                model.train()  # Set model to training mode\n",
    "            else:\n",
    "                model.eval()   # Set model to evaluate mode\n",
    "\n",
    "            running_loss = 0.0\n",
    "\n",
    "            # Get the input images and labels, and send to GPU if available\n",
    "            for (inputs,labels) in dataloaders[phase]:\n",
    "                inputs = inputs.to(device)\n",
    "                labels = labels.to(device)\n",
    "\n",
    "                # Zero the weight gradients\n",
    "                optimizer.zero_grad()\n",
    "\n",
    "                # Forward pass to get outputs and calculate loss\n",
    "                # Track gradient only for training data\n",
    "                with torch.set_grad_enabled(phase == 'train'):\n",
    "                    outputs = model.forward(inputs).view(-1)\n",
    "                    loss = criterion(outputs, labels)\n",
    "\n",
    "                    # Backpropagation to get the gradients with respect to each weight\n",
    "                    # Only if in train\n",
    "                    if phase == 'train':\n",
    "                        loss.backward()\n",
    "                        # Update the weights\n",
    "                        optimizer.step()\n",
    "\n",
    "                # Convert loss into a scalar and add it to running_loss\n",
    "                running_loss += loss.item() * labels.size(0)\n",
    "\n",
    "            # Step along learning rate scheduler when in train\n",
    "            if (phase == 'train') and (scheduler is not None):\n",
    "                scheduler.step()\n",
    "\n",
    "            # Calculate and display average loss and accuracy for the epoch\n",
    "            epoch_loss = running_loss / len(dataloaders[phase].dataset)\n",
    "            costpaths[phase].append(epoch_loss)\n",
    "            print('{} loss: {:.4f}'.format(phase, epoch_loss))\n",
    "\n",
    "    time_elapsed = time.time() - since\n",
    "    print('Training complete in {:.0f}m {:.0f}s'.format(\n",
    "        time_elapsed // 60, time_elapsed % 60))\n",
    "\n",
    "    return costpaths"
   ]
  },
  {
   "cell_type": "code",
   "execution_count": 122,
   "id": "d7f7b44a",
   "metadata": {},
   "outputs": [
    {
     "name": "stdout",
     "output_type": "stream",
     "text": [
      "Epoch 0/9\n",
      "----------\n",
      "train loss: 6.8261\n",
      "val loss: 6.7111\n",
      "Epoch 1/9\n",
      "----------\n",
      "train loss: 6.2792\n",
      "val loss: 6.4953\n",
      "Epoch 2/9\n",
      "----------\n",
      "train loss: 5.8389\n",
      "val loss: 6.3029\n",
      "Epoch 3/9\n",
      "----------\n",
      "train loss: 5.4906\n",
      "val loss: 6.1458\n",
      "Epoch 4/9\n",
      "----------\n",
      "train loss: 5.2034\n",
      "val loss: 6.0099\n",
      "Epoch 5/9\n",
      "----------\n",
      "train loss: 4.9662\n",
      "val loss: 5.8896\n",
      "Epoch 6/9\n",
      "----------\n",
      "train loss: 4.7626\n",
      "val loss: 5.7832\n",
      "Epoch 7/9\n",
      "----------\n",
      "train loss: 4.5775\n",
      "val loss: 5.6674\n",
      "Epoch 8/9\n",
      "----------\n",
      "train loss: 4.3922\n",
      "val loss: 5.5302\n",
      "Epoch 9/9\n",
      "----------\n",
      "train loss: 4.2178\n",
      "val loss: 5.4330\n",
      "Training complete in 5m 11s\n"
     ]
    }
   ],
   "source": [
    "dataloaders = {'train':trainloader, 'val':valloader}\n",
    "\n",
    "n_users = X.loc[:,'userId'].max()+1\n",
    "n_items = X.loc[:,'movieId'].max()+1\n",
    "model = PMFRecommender(n_users,n_items,embedding_dim=50,rating_range=[0.,5.])\n",
    "\n",
    "criterion = nn.MSELoss()\n",
    "lr=0.001\n",
    "n_epochs=10\n",
    "wd=1e-3\n",
    "optimizer = optim.Adam(model.parameters(), lr=lr, weight_decay=wd)\n",
    "device = torch.device(\"cuda\" if torch.cuda.is_available() else \"cpu\")\n",
    "\n",
    "cost_paths = train_model(model,criterion,optimizer,dataloaders, device,n_epochs, scheduler=None)\n"
   ]
  },
  {
   "cell_type": "code",
   "execution_count": 110,
   "id": "5567b00d",
   "metadata": {},
   "outputs": [
    {
     "data": {
      "image/png": "[encoded data removed]",
      "text/plain": [
       "<Figure size 432x288 with 1 Axes>"
      ]
     },
     "metadata": {
      "needs_background": "light"
     },
     "output_type": "display_data"
    }
   ],
   "source": [
    "# Plot the cost over training and validation sets\n",
    "fig,ax = plt.subplots(1,2,figsize=(15,5))\n",
    "for i,key in enumerate(cost_paths.keys()):\n",
    "    ax_sub=ax[i%3]\n",
    "    ax_sub.plot(cost_paths[key])\n",
    "    ax_sub.set_title(key)\n",
    "    ax_sub.set_ylim(0,11)\n",
    "    ax_sub.set_xlabel('Epoch')\n",
    "    ax_sub.set_ylabel('Loss')\n",
    "plt.show()"
   ]
  },
  {
   "cell_type": "code",
   "execution_count": null,
   "id": "9d797ebc",
   "metadata": {},
   "outputs": [],
   "source": []
  }
 ],
 "metadata": {
  "kernelspec": {
   "display_name": "Python 3",
   "language": "python",
   "name": "python3"
  },
  "language_info": {
   "codemirror_mode": {
    "name": "ipython",
    "version": 3
   },
   "file_extension": ".py",
   "mimetype": "text/x-python",
   "name": "python",
   "nbconvert_exporter": "python",
   "pygments_lexer": "ipython3",
   "version": "3.9.7"
  }
 },
 "nbformat": 4,
 "nbformat_minor": 5
}
