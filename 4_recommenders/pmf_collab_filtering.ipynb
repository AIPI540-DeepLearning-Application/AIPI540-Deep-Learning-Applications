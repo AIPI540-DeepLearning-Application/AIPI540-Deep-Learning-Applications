{
  "cells": [
    {
      "cell_type": "markdown",
      "id": "923261bb",
      "metadata": {
        "id": "923261bb"
      },
      "source": [
        "<a href='https://ai.meng.duke.edu'> = <img align=\"left\" style=\"padding-top:10px;\" src=https://storage.googleapis.com/aipi_datasets/Duke-AIPI-Logo.png>"
      ]
    },
    {
      "cell_type": "markdown",
      "id": "TmlQxxaA_NKR",
      "metadata": {
        "id": "TmlQxxaA_NKR"
      },
      "source": [
        "# Collaborative Filtering Using Probabilistic Matrix Factorization (PMF)\n",
        "In this exercise we will demonstrate how [probabilistic matrix factorization (PMF)](https://proceedings.neurips.cc/paper/2007/file/d7322ed717dedf1eb4e6e52a37ea7bcd-Paper.pdf) can be used to build simple but highly effective collaborative filtering recommendation systems.  We will demonstrate this on a subset of the [MovieLens](https://grouplens.org/datasets/movielens/) dataset containing 100,000 movie ratings.  In this example our dataset includes only previous ratings of movies by users - since we are not using any information about the users other than their past ratings, we must apply a collaborative filtering approach instead of content filtering.\n",
        "\n",
        "At the core of PMF is the assumption that users have a set of \"latent factors\" which relate to their preferences for certain types of an item.  In the case of movie recommendations, these latent factors would relate to a user's preference for types of movies, e.g. which genres they like to watch - romances, comedies etc.  Likewise the items (movie, in this case) also have a set of latent factors related to their characteristics.  Possible latent factors for movies might be genres or decade produced.  \n",
        "\n",
        "In PMF we create an \"embedding\" for each user and for each item.  We can choose the dimensionality of the embeddings we create, which helps us control the complexity of the model.  These embeddings are then learned for each user and item during the training process, and they ultimately are able to represent the values of the latent factors learned.  The predicted rating of a user for an item is then calculated as the dot product of the user's embedding and the item's embedding.  It is often then scaled to the expected range of rating values (e.g. 0 to 5 stars).\n",
        "\n",
        "\n",
        "\n",
        "**Notes:** \n",
        "- This should be run on GPU.  It can be run on CPU but will take ~30 minutes.\n",
        "\n",
        "**References:**  \n",
        "- Review the details on the MovieLens dataset [here](https://grouplens.org/datasets/movielens/)  \n",
        "- Read the [original paper](https://proceedings.neurips.cc/paper/2007/file/d7322ed717dedf1eb4e6e52a37ea7bcd-Paper.pdf) by Salakhutdinov and Mnih on Probabilistic Matrix Factorication"
      ]
    },
    {
      "cell_type": "code",
      "execution_count": 1,
      "id": "tL8yWtfG_NKT",
      "metadata": {
        "id": "tL8yWtfG_NKT"
      },
      "outputs": [],
      "source": [
        "import os\n",
        "import urllib\n",
        "import zipfile\n",
        "import time\n",
        "\n",
        "import torch\n",
        "import numpy as np\n",
        "import pandas as pd\n",
        "import torch.nn as nn\n",
        "import torch.nn.functional as F\n",
        "import torch.optim as optim\n",
        "from torch.utils.data import DataLoader, TensorDataset\n",
        "from sklearn.model_selection import train_test_split\n",
        "import matplotlib.pyplot as plt"
      ]
    },
    {
      "cell_type": "markdown",
      "id": "401190b8",
      "metadata": {
        "id": "401190b8"
      },
      "source": [
        "## Prepare the data"
      ]
    },
    {
      "cell_type": "code",
      "execution_count": 2,
      "id": "8750063e",
      "metadata": {
        "id": "8750063e"
      },
      "outputs": [],
      "source": [
        "# Download the data from the GroupLens website\n",
        "datapath = './data/ml-latest-small'\n",
        "\n",
        "if not os.path.exists('./data'):\n",
        "    os.makedirs('./data')\n",
        "if not os.path.exists(datapath):\n",
        "    url = 'https://files.grouplens.org/datasets/movielens/ml-latest-small.zip'\n",
        "    urllib.request.urlretrieve(url,filename='data/ml-latest-small.zip')\n",
        "    zip_ref = zipfile.ZipFile('data/ml-latest-small.zip', 'r')\n",
        "    zip_ref.extractall('data/')\n",
        "    zip_ref.close()"
      ]
    },
    {
      "cell_type": "code",
      "execution_count": 3,
      "id": "a23ce03f",
      "metadata": {
        "colab": {
          "base_uri": "https://localhost:8080/",
          "height": 204
        },
        "id": "a23ce03f",
        "outputId": "7ec733bd-d0ae-448d-8884-8c66c81c03e1"
      },
      "outputs": [
        {
          "data": {
            "text/html": [
              "\n",
              "  <div id=\"df-115d791f-1c14-4dcb-babd-2c17fd461e9b\">\n",
              "    <div class=\"colab-df-container\">\n",
              "      <div>\n",
              "<style scoped>\n",
              "    .dataframe tbody tr th:only-of-type {\n",
              "        vertical-align: middle;\n",
              "    }\n",
              "\n",
              "    .dataframe tbody tr th {\n",
              "        vertical-align: top;\n",
              "    }\n",
              "\n",
              "    .dataframe thead th {\n",
              "        text-align: right;\n",
              "    }\n",
              "</style>\n",
              "<table border=\"1\" class=\"dataframe\">\n",
              "  <thead>\n",
              "    <tr style=\"text-align: right;\">\n",
              "      <th></th>\n",
              "      <th>userId</th>\n",
              "      <th>movieId</th>\n",
              "      <th>rating</th>\n",
              "    </tr>\n",
              "  </thead>\n",
              "  <tbody>\n",
              "    <tr>\n",
              "      <th>0</th>\n",
              "      <td>1</td>\n",
              "      <td>1</td>\n",
              "      <td>4.0</td>\n",
              "    </tr>\n",
              "    <tr>\n",
              "      <th>1</th>\n",
              "      <td>1</td>\n",
              "      <td>3</td>\n",
              "      <td>4.0</td>\n",
              "    </tr>\n",
              "    <tr>\n",
              "      <th>2</th>\n",
              "      <td>1</td>\n",
              "      <td>6</td>\n",
              "      <td>4.0</td>\n",
              "    </tr>\n",
              "    <tr>\n",
              "      <th>3</th>\n",
              "      <td>1</td>\n",
              "      <td>47</td>\n",
              "      <td>5.0</td>\n",
              "    </tr>\n",
              "    <tr>\n",
              "      <th>4</th>\n",
              "      <td>1</td>\n",
              "      <td>50</td>\n",
              "      <td>5.0</td>\n",
              "    </tr>\n",
              "  </tbody>\n",
              "</table>\n",
              "</div>\n",
              "      <button class=\"colab-df-convert\" onclick=\"convertToInteractive('df-115d791f-1c14-4dcb-babd-2c17fd461e9b')\"\n",
              "              title=\"Convert this dataframe to an interactive table.\"\n",
              "              style=\"display:none;\">\n",
              "        \n",
              "  <svg xmlns=\"http://www.w3.org/2000/svg\" height=\"24px\"viewBox=\"0 0 24 24\"\n",
              "       width=\"24px\">\n",
              "    <path d=\"M0 0h24v24H0V0z\" fill=\"none\"/>\n",
              "    <path d=\"M18.56 5.44l.94 2.06.94-2.06 2.06-.94-2.06-.94-.94-2.06-.94 2.06-2.06.94zm-11 1L8.5 8.5l.94-2.06 2.06-.94-2.06-.94L8.5 2.5l-.94 2.06-2.06.94zm10 10l.94 2.06.94-2.06 2.06-.94-2.06-.94-.94-2.06-.94 2.06-2.06.94z\"/><path d=\"M17.41 7.96l-1.37-1.37c-.4-.4-.92-.59-1.43-.59-.52 0-1.04.2-1.43.59L10.3 9.45l-7.72 7.72c-.78.78-.78 2.05 0 2.83L4 21.41c.39.39.9.59 1.41.59.51 0 1.02-.2 1.41-.59l7.78-7.78 2.81-2.81c.8-.78.8-2.07 0-2.86zM5.41 20L4 18.59l7.72-7.72 1.47 1.35L5.41 20z\"/>\n",
              "  </svg>\n",
              "      </button>\n",
              "      \n",
              "  <style>\n",
              "    .colab-df-container {\n",
              "      display:flex;\n",
              "      flex-wrap:wrap;\n",
              "      gap: 12px;\n",
              "    }\n",
              "\n",
              "    .colab-df-convert {\n",
              "      background-color: #E8F0FE;\n",
              "      border: none;\n",
              "      border-radius: 50%;\n",
              "      cursor: pointer;\n",
              "      display: none;\n",
              "      fill: #1967D2;\n",
              "      height: 32px;\n",
              "      padding: 0 0 0 0;\n",
              "      width: 32px;\n",
              "    }\n",
              "\n",
              "    .colab-df-convert:hover {\n",
              "      background-color: #E2EBFA;\n",
              "      box-shadow: 0px 1px 2px rgba(60, 64, 67, 0.3), 0px 1px 3px 1px rgba(60, 64, 67, 0.15);\n",
              "      fill: #174EA6;\n",
              "    }\n",
              "\n",
              "    [theme=dark] .colab-df-convert {\n",
              "      background-color: #3B4455;\n",
              "      fill: #D2E3FC;\n",
              "    }\n",
              "\n",
              "    [theme=dark] .colab-df-convert:hover {\n",
              "      background-color: #434B5C;\n",
              "      box-shadow: 0px 1px 3px 1px rgba(0, 0, 0, 0.15);\n",
              "      filter: drop-shadow(0px 1px 2px rgba(0, 0, 0, 0.3));\n",
              "      fill: #FFFFFF;\n",
              "    }\n",
              "  </style>\n",
              "\n",
              "      <script>\n",
              "        const buttonEl =\n",
              "          document.querySelector('#df-115d791f-1c14-4dcb-babd-2c17fd461e9b button.colab-df-convert');\n",
              "        buttonEl.style.display =\n",
              "          google.colab.kernel.accessAllowed ? 'block' : 'none';\n",
              "\n",
              "        async function convertToInteractive(key) {\n",
              "          const element = document.querySelector('#df-115d791f-1c14-4dcb-babd-2c17fd461e9b');\n",
              "          const dataTable =\n",
              "            await google.colab.kernel.invokeFunction('convertToInteractive',\n",
              "                                                     [key], {});\n",
              "          if (!dataTable) return;\n",
              "\n",
              "          const docLinkHtml = 'Like what you see? Visit the ' +\n",
              "            '<a target=\"_blank\" href=https://colab.research.google.com/notebooks/data_table.ipynb>data table notebook</a>'\n",
              "            + ' to learn more about interactive tables.';\n",
              "          element.innerHTML = '';\n",
              "          dataTable['output_type'] = 'display_data';\n",
              "          await google.colab.output.renderOutput(dataTable, element);\n",
              "          const docLink = document.createElement('div');\n",
              "          docLink.innerHTML = docLinkHtml;\n",
              "          element.appendChild(docLink);\n",
              "        }\n",
              "      </script>\n",
              "    </div>\n",
              "  </div>\n",
              "  "
            ],
            "text/plain": [
              "   userId  movieId  rating\n",
              "0       1        1     4.0\n",
              "1       1        3     4.0\n",
              "2       1        6     4.0\n",
              "3       1       47     5.0\n",
              "4       1       50     5.0"
            ]
          },
          "execution_count": 3,
          "metadata": {},
          "output_type": "execute_result"
        }
      ],
      "source": [
        "# Load data\n",
        "ratings = pd.read_csv(os.path.join(datapath,'ratings.csv'))\n",
        "ratings = ratings.loc[:,['userId','movieId','rating']]\n",
        "ratings.head()"
      ]
    },
    {
      "cell_type": "markdown",
      "id": "ef3c75ea",
      "metadata": {
        "id": "ef3c75ea"
      },
      "source": [
        "As we can see above, our dataset consists of user IDs, movie IDs of movies they have rated, and their rating for each movie.  We will now split our data into the input data (user IDs and movie IDs) and the target we are trying to predict (the ratings).  We will then split our data to create a validation set."
      ]
    },
    {
      "cell_type": "code",
      "execution_count": 4,
      "id": "072209a9",
      "metadata": {
        "id": "072209a9"
      },
      "outputs": [],
      "source": [
        "X = ratings.loc[:,['userId','movieId']]\n",
        "y = ratings.loc[:,'rating']\n",
        "\n",
        "# Split our data into training and test sets\n",
        "X_train, X_val, y_train, y_val = train_test_split(X,y,random_state=0, test_size=0.2)"
      ]
    },
    {
      "cell_type": "markdown",
      "id": "d3f70596",
      "metadata": {
        "id": "d3f70596"
      },
      "source": [
        "We can now put our data into PyTorch DataLoaders as we have done before with tabular data."
      ]
    },
    {
      "cell_type": "code",
      "execution_count": 5,
      "id": "44b041d6",
      "metadata": {
        "id": "44b041d6"
      },
      "outputs": [],
      "source": [
        "def prep_dataloaders(X_train,y_train,X_val,y_val,batch_size):\n",
        "    # Convert training and test data to TensorDatasets\n",
        "    trainset = TensorDataset(torch.from_numpy(np.array(X_train)).long(), \n",
        "                            torch.from_numpy(np.array(y_train)).float())\n",
        "    valset = TensorDataset(torch.from_numpy(np.array(X_val)).long(), \n",
        "                            torch.from_numpy(np.array(y_val)).float())\n",
        "\n",
        "    # Create Dataloaders for our training and test data to allow us to iterate over minibatches \n",
        "    trainloader = torch.utils.data.DataLoader(trainset, batch_size=batch_size, shuffle=False)\n",
        "    valloader = torch.utils.data.DataLoader(valset, batch_size=batch_size, shuffle=False)\n",
        "\n",
        "    return trainset, valset, trainloader, valloader\n",
        "\n",
        "batchsize = 64\n",
        "trainset, valset, trainloader,valloader = prep_dataloaders(X_train,y_train,X_val,y_val,batchsize)"
      ]
    },
    {
      "cell_type": "markdown",
      "id": "f8a4ace0",
      "metadata": {
        "id": "f8a4ace0"
      },
      "source": [
        "## Define model architecture\n",
        "We will create our own architecture for our PMF-based recommendation system.  It should include embeddings for the users and items of a specified dimensionality.  We include bias terms for both the user and the item.  The user bias term attempts to capture the user's overall rating bias (whether they tend to rate all movies higher or lower than the average user), and the bias term for the item attempts to capture how highly rated each movie is regardless of whether it aligns with users' preferences or not (e.g. hit movies will likely have a high bias term because they tend to be appealing to users even if they do not match user's specific preferences).\n",
        "\n",
        "In the `forward` method we then take the dot product of the user and item embeddings for the item we are generating a rating for.  We then pass our prediction through a sigmoid and scale it so that it matches the range of ratings we expect (0-5 stars in this case)."
      ]
    },
    {
      "cell_type": "code",
      "execution_count": 6,
      "id": "08fad98d",
      "metadata": {
        "id": "08fad98d"
      },
      "outputs": [],
      "source": [
        "class PMFRecommender(nn.Module):\n",
        "    \n",
        "    def __init__(self,n_users, n_items, embedding_dim ,rating_range):\n",
        "        super().__init__() \n",
        "        self.user_embeddings = nn.Embedding(num_embeddings=n_users,embedding_dim=embedding_dim) # user embeddings\n",
        "        self.user_bias = nn.Embedding(num_embeddings=n_users,embedding_dim=1) # user bias\n",
        "        self.item_embeddings = nn.Embedding(num_embeddings=n_items,embedding_dim=embedding_dim) # item embeddings\n",
        "        self.item_bias = nn.Embedding(num_embeddings=n_items,embedding_dim=1) # item bias\n",
        "        self.rating_range = rating_range # range of expected ratings e.g. 0-5\n",
        "\n",
        "    def forward(self, X):\n",
        "        embedded_users = self.user_embeddings(X[:,0]) # dims = [batch_size, embedding_dim]\n",
        "        embedded_items = self.item_embeddings(X[:,1]) # dims = [batch_size, embedding_dim]\n",
        "        # Take dot product of each user embedding with the embedding of item to be rated to get the predicted rating\n",
        "        preds = torch.sum(embedded_users * embedded_items, dim=1, keepdim=True) \n",
        "        # Add user and item bias to rating\n",
        "        preds = preds.view(-1,1) + self.user_bias(X[:,0]) + self.item_bias(X[:,1])\n",
        "        # Scale predicted ratings to target-range [low,high]\n",
        "        preds = torch.sigmoid(preds) * (self.rating_range[1]-self.rating_range[0]) + self.rating_range[0]\n",
        "        return preds\n",
        "        \n"
      ]
    },
    {
      "cell_type": "markdown",
      "id": "298b0893",
      "metadata": {
        "id": "298b0893"
      },
      "source": [
        "## Train the model"
      ]
    },
    {
      "cell_type": "code",
      "execution_count": 7,
      "id": "9e38d014",
      "metadata": {
        "id": "9e38d014"
      },
      "outputs": [],
      "source": [
        "def train_model(model, criterion, optimizer, dataloaders, device, num_epochs=5, scheduler=None):\n",
        "    model = model.to(device) # Send model to GPU if available\n",
        "    since = time.time()\n",
        "\n",
        "    costpaths = {'train':[],'val':[]}\n",
        "\n",
        "    for epoch in range(num_epochs):\n",
        "        print('Epoch {}/{}'.format(epoch, num_epochs - 1))\n",
        "        print('-' * 10)\n",
        "\n",
        "        # Each epoch has a training and validation phase\n",
        "        for phase in ['train', 'val']:\n",
        "            if phase == 'train':\n",
        "                model.train()  # Set model to training mode\n",
        "            else:\n",
        "                model.eval()   # Set model to evaluate mode\n",
        "\n",
        "            running_loss = 0.0\n",
        "\n",
        "            # Get the input images and labels, and send to GPU if available\n",
        "            for (inputs,labels) in dataloaders[phase]:\n",
        "                inputs = inputs.to(device)\n",
        "                labels = labels.to(device)\n",
        "\n",
        "                # Zero the weight gradients\n",
        "                optimizer.zero_grad()\n",
        "\n",
        "                # Forward pass to get outputs and calculate loss\n",
        "                # Track gradient only for training data\n",
        "                with torch.set_grad_enabled(phase == 'train'):\n",
        "                    outputs = model.forward(inputs).view(-1)\n",
        "                    loss = criterion(outputs, labels)\n",
        "\n",
        "                    # Backpropagation to get the gradients with respect to each weight\n",
        "                    # Only if in train\n",
        "                    if phase == 'train':\n",
        "                        loss.backward()\n",
        "                        # Update the weights\n",
        "                        optimizer.step()\n",
        "\n",
        "                # Convert loss into a scalar and add it to running_loss\n",
        "                running_loss += np.sqrt(loss.item()) * labels.size(0)\n",
        "\n",
        "            # Step along learning rate scheduler when in train\n",
        "            if (phase == 'train') and (scheduler is not None):\n",
        "                scheduler.step()\n",
        "\n",
        "            # Calculate and display average loss and accuracy for the epoch\n",
        "            epoch_loss = running_loss / len(dataloaders[phase].dataset)\n",
        "            costpaths[phase].append(epoch_loss)\n",
        "            print('{} loss: {:.4f}'.format(phase, epoch_loss))\n",
        "\n",
        "    time_elapsed = time.time() - since\n",
        "    print('Training complete in {:.0f}m {:.0f}s'.format(\n",
        "        time_elapsed // 60, time_elapsed % 60))\n",
        "\n",
        "    return costpaths"
      ]
    },
    {
      "cell_type": "code",
      "execution_count": 8,
      "id": "d7f7b44a",
      "metadata": {
        "colab": {
          "base_uri": "https://localhost:8080/"
        },
        "id": "d7f7b44a",
        "outputId": "4a250bea-0889-42a7-83be-4c6895b2aa19"
      },
      "outputs": [
        {
          "name": "stdout",
          "output_type": "stream",
          "text": [
            "Epoch 0/9\n",
            "----------\n",
            "train loss: 2.5070\n",
            "val loss: 2.3721\n",
            "Epoch 1/9\n",
            "----------\n",
            "train loss: 2.1321\n",
            "val loss: 2.0330\n",
            "Epoch 2/9\n",
            "----------\n",
            "train loss: 1.7149\n",
            "val loss: 1.6792\n",
            "Epoch 3/9\n",
            "----------\n",
            "train loss: 1.3388\n",
            "val loss: 1.3545\n",
            "Epoch 4/9\n",
            "----------\n",
            "train loss: 1.0631\n",
            "val loss: 1.1195\n",
            "Epoch 5/9\n",
            "----------\n",
            "train loss: 0.9207\n",
            "val loss: 0.9947\n",
            "Epoch 6/9\n",
            "----------\n",
            "train loss: 0.8793\n",
            "val loss: 0.9444\n",
            "Epoch 7/9\n",
            "----------\n",
            "train loss: 0.8806\n",
            "val loss: 0.9265\n",
            "Epoch 8/9\n",
            "----------\n",
            "train loss: 0.8888\n",
            "val loss: 0.9199\n",
            "Epoch 9/9\n",
            "----------\n",
            "train loss: 0.8934\n",
            "val loss: 0.9174\n",
            "Training complete in 1m 18s\n"
          ]
        }
      ],
      "source": [
        "dataloaders = {'train':trainloader, 'val':valloader}\n",
        "\n",
        "n_users = X.loc[:,'userId'].max()+1 # ID value range of users\n",
        "n_items = X.loc[:,'movieId'].max()+1 # ID value range of movies\n",
        "model = PMFRecommender(n_users,n_items,embedding_dim=50,rating_range=[0.,5.])\n",
        "\n",
        "criterion = nn.MSELoss()\n",
        "lr=0.001\n",
        "n_epochs=10\n",
        "wd=1e-3\n",
        "optimizer = optim.Adam(model.parameters(), lr=lr, weight_decay=wd)\n",
        "device = torch.device(\"cuda\" if torch.cuda.is_available() else \"cpu\")\n",
        "\n",
        "cost_paths = train_model(model,criterion,optimizer,dataloaders, device,n_epochs, scheduler=None)\n"
      ]
    },
    {
      "cell_type": "code",
      "execution_count": 9,
      "id": "5567b00d",
      "metadata": {
        "colab": {
          "base_uri": "https://localhost:8080/",
          "height": 350
        },
        "id": "5567b00d",
        "outputId": "0906fab3-bc34-4b0c-9a53-1970b3dc8c7a"
      },
      "outputs": [
        {
          "data": {
            "image/png": "[encoded data removed]",
            "text/plain": [
              "<Figure size 1080x360 with 2 Axes>"
            ]
          },
          "metadata": {
            "needs_background": "light"
          },
          "output_type": "display_data"
        }
      ],
      "source": [
        "# Plot the cost over training and validation sets\n",
        "fig,ax = plt.subplots(1,2,figsize=(15,5))\n",
        "for i,key in enumerate(cost_paths.keys()):\n",
        "    ax_sub=ax[i%3]\n",
        "    ax_sub.plot(cost_paths[key])\n",
        "    ax_sub.set_title(key)\n",
        "    ax_sub.set_xlabel('Epoch')\n",
        "    ax_sub.set_ylabel('Loss')\n",
        "plt.show()"
      ]
    },
    {
      "cell_type": "markdown",
      "id": "ec7eb2f2",
      "metadata": {
        "id": "ec7eb2f2"
      },
      "source": [
        "## Get predicted rating for a user-movie pair\n",
        "Now that our model is trained we can use it to generate predicted ratings of a given user for a given movie.  To do so we simply feed a user-item pair into our model and get the predicted rating.  We could also do other things such as determine which movie (out of all movies in our set) a particular user might rate the highest, and recommend that to him/her."
      ]
    },
    {
      "cell_type": "code",
      "execution_count": 10,
      "id": "f66c2d1e",
      "metadata": {
        "colab": {
          "base_uri": "https://localhost:8080/"
        },
        "id": "f66c2d1e",
        "outputId": "23c7b3f5-4404-419c-e5df-be9794f5042a"
      },
      "outputs": [
        {
          "name": "stdout",
          "output_type": "stream",
          "text": [
            "Predicted rating is 3.3\n"
          ]
        }
      ],
      "source": [
        "def predict_rating(model,userId,movieId, device):\n",
        "    model = model.to(device)\n",
        "    with torch.no_grad():\n",
        "        model.eval()\n",
        "        X = torch.Tensor([userId,movieId]).long().view(1,-1)\n",
        "        X = X.to(device)\n",
        "        pred = model.forward(X)\n",
        "        return pred\n",
        "\n",
        "rating = predict_rating(model,5,10,device)\n",
        "print('Predicted rating is {:.1f}'.format(rating.detach().cpu().item()))"
      ]
    },
    {
      "cell_type": "markdown",
      "id": "ce8160de",
      "metadata": {
        "id": "ce8160de"
      },
      "source": [
        "## Generate recommendations for user\n",
        "Now that we have a trained model, we can use our model not only to predict a user's rating for a movie they have not seen but also to generate recommended movies for a user to watch.  The approach we will use to generate recommendations is as follows:  \n",
        "- Use our model to predict the rating a user will assign to every movie in the set\n",
        "- Sort the movies by predicted rating\n",
        "- Remove movies the user has already seen\n",
        "- Return the top predictions as the recommendations to watch"
      ]
    },
    {
      "cell_type": "code",
      "execution_count": 51,
      "id": "703e4d47",
      "metadata": {
        "id": "703e4d47"
      },
      "outputs": [],
      "source": [
        "def generate_recommendations(movies,X,model,userId,device):\n",
        "    # Get predicted ratings for every movie\n",
        "    pred_ratings = []\n",
        "    for movie in movies['movieId'].tolist():\n",
        "        pred = predict_rating(model,userId,movie,device)\n",
        "        pred_ratings.append(pred.detach().cpu().item())\n",
        "    # Sort movies by predicted rating\n",
        "    idxs = np.argsort(np.array(pred_ratings))[::-1]\n",
        "    recs = movies.iloc[idxs]['movieId'].values.tolist()\n",
        "    # Filter out movies already watched by user\n",
        "    movies_watched = X.loc[X['userId']==userId, 'movieId'].tolist()\n",
        "    recs = [rec for rec in recs if not rec in movies_watched]\n",
        "    # Filter to top 10 recommendations\n",
        "    recs = recs[:10]\n",
        "    # Convert movieIDs to titles\n",
        "    recs_names = []\n",
        "    for rec in recs:\n",
        "        recs_names.append(movies.loc[movies['movieId']==rec,'title'].values[0])\n",
        "    return recs_names\n"
      ]
    },
    {
      "cell_type": "code",
      "execution_count": 1,
      "id": "2ad76fe6",
      "metadata": {
        "colab": {
          "base_uri": "https://localhost:8080/"
        },
        "id": "2ad76fe6",
        "outputId": "b356ff4f-6bdd-4a6c-a48b-9c43b290233f"
      },
      "outputs": [
        {
          "ename": "NameError",
          "evalue": "name 'pd' is not defined",
          "output_type": "error",
          "traceback": [
            "\u001b[0;31m---------------------------------------------------------------------------\u001b[0m",
            "\u001b[0;31mNameError\u001b[0m                                 Traceback (most recent call last)",
            "\u001b[0;32m/var/folders/13/xybwcqt91s93gw0l8w_cg4zr0000gp/T/ipykernel_38977/1256734728.py\u001b[0m in \u001b[0;36m<module>\u001b[0;34m\u001b[0m\n\u001b[1;32m      1\u001b[0m \u001b[0muserId\u001b[0m \u001b[0;34m=\u001b[0m \u001b[0;36m10\u001b[0m\u001b[0;34m\u001b[0m\u001b[0;34m\u001b[0m\u001b[0m\n\u001b[0;32m----> 2\u001b[0;31m \u001b[0mmovies\u001b[0m \u001b[0;34m=\u001b[0m \u001b[0mpd\u001b[0m\u001b[0;34m.\u001b[0m\u001b[0mread_csv\u001b[0m\u001b[0;34m(\u001b[0m\u001b[0mos\u001b[0m\u001b[0;34m.\u001b[0m\u001b[0mpath\u001b[0m\u001b[0;34m.\u001b[0m\u001b[0mjoin\u001b[0m\u001b[0;34m(\u001b[0m\u001b[0mdatapath\u001b[0m\u001b[0;34m,\u001b[0m\u001b[0;34m'movies.csv'\u001b[0m\u001b[0;34m)\u001b[0m\u001b[0;34m)\u001b[0m\u001b[0;34m\u001b[0m\u001b[0;34m\u001b[0m\u001b[0m\n\u001b[0m\u001b[1;32m      3\u001b[0m \u001b[0mrecs\u001b[0m \u001b[0;34m=\u001b[0m \u001b[0mgenerate_recommendations\u001b[0m\u001b[0;34m(\u001b[0m\u001b[0mmovies\u001b[0m\u001b[0;34m,\u001b[0m\u001b[0mX\u001b[0m\u001b[0;34m,\u001b[0m\u001b[0mmodel\u001b[0m\u001b[0;34m,\u001b[0m\u001b[0muserId\u001b[0m\u001b[0;34m,\u001b[0m\u001b[0mdevice\u001b[0m\u001b[0;34m)\u001b[0m\u001b[0;34m\u001b[0m\u001b[0;34m\u001b[0m\u001b[0m\n\u001b[1;32m      4\u001b[0m \u001b[0;32mfor\u001b[0m \u001b[0mi\u001b[0m\u001b[0;34m,\u001b[0m\u001b[0mrec\u001b[0m \u001b[0;32min\u001b[0m \u001b[0menumerate\u001b[0m\u001b[0;34m(\u001b[0m\u001b[0mrecs\u001b[0m\u001b[0;34m)\u001b[0m\u001b[0;34m:\u001b[0m\u001b[0;34m\u001b[0m\u001b[0;34m\u001b[0m\u001b[0m\n\u001b[1;32m      5\u001b[0m   \u001b[0mprint\u001b[0m\u001b[0;34m(\u001b[0m\u001b[0;34m'Recommendation {}: {}'\u001b[0m\u001b[0;34m.\u001b[0m\u001b[0mformat\u001b[0m\u001b[0;34m(\u001b[0m\u001b[0mi\u001b[0m\u001b[0;34m,\u001b[0m\u001b[0mrec\u001b[0m\u001b[0;34m)\u001b[0m\u001b[0;34m)\u001b[0m\u001b[0;34m\u001b[0m\u001b[0;34m\u001b[0m\u001b[0m\n",
            "\u001b[0;31mNameError\u001b[0m: name 'pd' is not defined"
          ]
        }
      ],
      "source": [
        "userId = 5\n",
        "movies = pd.read_csv(os.path.join(datapath,'movies.csv'))\n",
        "recs = generate_recommendations(movies,X,model,userId,device)\n",
        "for i,rec in enumerate(recs):\n",
        "  print('Recommendation {}: {}'.format(i,rec))"
      ]
    },
    {
      "cell_type": "code",
      "execution_count": null,
      "id": "zf6w6a6DAAzn",
      "metadata": {
        "id": "zf6w6a6DAAzn"
      },
      "outputs": [],
      "source": []
    }
  ],
  "metadata": {
    "accelerator": "GPU",
    "colab": {
      "name": "pmf_collab_filtering.ipynb",
      "provenance": []
    },
    "kernelspec": {
      "display_name": "Python 3",
      "language": "python",
      "name": "python3"
    },
    "language_info": {
      "codemirror_mode": {
        "name": "ipython",
        "version": 3
      },
      "file_extension": ".py",
      "mimetype": "text/x-python",
      "name": "python",
      "nbconvert_exporter": "python",
      "pygments_lexer": "ipython3",
      "version": "3.9.7"
    }
  },
  "nbformat": 4,
  "nbformat_minor": 5
}
