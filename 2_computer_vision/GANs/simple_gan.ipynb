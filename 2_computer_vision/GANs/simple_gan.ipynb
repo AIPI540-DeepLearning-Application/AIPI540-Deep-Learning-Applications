{
  "cells": [
    {
      "cell_type": "markdown",
      "metadata": {
        "id": "h2OkAhQG2V8n"
      },
      "source": [
        "<a href='https://ai.meng.duke.edu'> = <img align=\"left\" style=\"padding-top:10px;\" src=https://storage.googleapis.com/aipi_datasets/Duke-AIPI-Logo.png>"
      ]
    },
    {
      "attachments": {},
      "cell_type": "markdown",
      "metadata": {
        "id": "f3bKXytY2V8r"
      },
      "source": [
        "# GAN Example\n",
        "In this demo notebook we are going to demonstrate the creation and use of a Generative Adversarial Network as implemented in the [original GAN paper by Goodfellow et al.](https://arxiv.org/pdf/1406.2661.pdf) For demonstration purposes, our objective will be to create a GAN which is trained on MNIST and able to generate images of handwritten digits.\n",
        "\n",
        "**Notes:**\n",
        "- This notebook should be run on GPU\n",
        "\n",
        "**References:**\n",
        "- Read the [original GAN paper](https://arxiv.org/pdf/1406.2661.pdf) for details on the training process  \n",
        "- This implementation is based on the [implementation by Raschka et al. in Machine Learning with PyTorch and Scikit-Learn](https://github.com/rasbt/machine-learning-book)"
      ]
    },
    {
      "cell_type": "code",
      "execution_count": null,
      "metadata": {
        "id": "nZRokJihAd3v"
      },
      "outputs": [],
      "source": [
        "# Run this cell only if working in Colab\n",
        "# Connects to any needed files from GitHub and Google Drive\n",
        "import os\n",
        "\n",
        "# Remove Colab default sample_data\n",
        "!rm -r ./sample_data\n",
        "\n",
        "# Clone GitHub files to colab workspace\n",
        "repo_name = \"AIPI540-Deep-Learning-Applications\" # Enter repo name\n",
        "git_path = 'https://github.com/AIPI540/AIPI540-Deep-Learning-Applications.git'\n",
        "!git clone \"{git_path}\"\n",
        "\n",
        "# Install dependencies from requirements.txt file\n",
        "#!pip install -r \"{os.path.join(repo_name,'requirements.txt')}\"\n",
        "\n",
        "# Change working directory to location of notebook\n",
        "notebook_dir = '2_computer_vision/GANs'\n",
        "path_to_notebook = os.path.join(repo_name,notebook_dir)\n",
        "%cd \"{path_to_notebook}\"\n",
        "%ls"
      ]
    },
    {
      "cell_type": "code",
      "execution_count": 37,
      "metadata": {
        "id": "77g7pHdf2V8s"
      },
      "outputs": [
        {
          "name": "stdout",
          "output_type": "stream",
          "text": [
            "torch:  1.10 ; cuda:  1.10.1\n"
          ]
        }
      ],
      "source": [
        "import os\n",
        "import numpy as np\n",
        "import torch\n",
        "from torchvision import datasets, transforms\n",
        "import torchvision\n",
        "from torch.utils.data import DataLoader, TensorDataset\n",
        "\n",
        "import torch.nn as nn\n",
        "import torch.nn.functional as F\n",
        "import torch.optim as optim\n",
        "import matplotlib.pyplot as plt\n",
        "\n",
        "torch.manual_seed(1)\n",
        "\n",
        "TORCH_VERSION = \".\".join(torch.__version__.split(\".\")[:2])\n",
        "CUDA_VERSION = torch.__version__.split(\"+\")[-1]\n",
        "print(\"torch: \", TORCH_VERSION, \"; cuda: \", CUDA_VERSION)\n",
        "\n",
        "if torch.cuda.is_available():\n",
        "    device = torch.device(\"cuda:0\")\n",
        "else:\n",
        "    device = \"cpu\""
      ]
    },
    {
      "attachments": {},
      "cell_type": "markdown",
      "metadata": {},
      "source": [
        "### Get data and set up dataloaders"
      ]
    },
    {
      "cell_type": "code",
      "execution_count": 32,
      "metadata": {},
      "outputs": [
        {
          "name": "stdout",
          "output_type": "stream",
          "text": [
            "Min: -1.0 Max: 1.0\n",
            "Shape: torch.Size([1, 28, 28])\n"
          ]
        }
      ],
      "source": [
        "# Download the data\n",
        "if not os.path.exists('./data'):\n",
        "    os.mkdir('./data')\n",
        "\n",
        "# Apply transforms to convert to tensor and normalize pixel values to range [-1,1]\n",
        "transform = transforms.Compose([\n",
        "    transforms.ToTensor(),\n",
        "    transforms.Normalize(mean=(0.5), std=(0.5)),\n",
        "])\n",
        "\n",
        "# Create Dataset\n",
        "train_data = datasets.MNIST(root='data', train=True, transform=transform, download=True)\n",
        "\n",
        "# Create DataLoader\n",
        "batch_size = 64\n",
        "trainloader = DataLoader(train_data, batch_size, shuffle=False)\n",
        "\n",
        "# Check an example\n",
        "img, label = next(iter(train_data))\n",
        "print(f'Min: {img.min()} Max: {img.max()}')\n",
        "print(f'Shape: {img.shape}')"
      ]
    },
    {
      "attachments": {},
      "cell_type": "markdown",
      "metadata": {},
      "source": [
        "### Define architecture of generator and discriminator"
      ]
    },
    {
      "cell_type": "code",
      "execution_count": 24,
      "metadata": {},
      "outputs": [],
      "source": [
        "def make_generator_network(\n",
        "        input_size=20,\n",
        "        num_hidden_layers=1,\n",
        "        num_hidden_units=100,\n",
        "        num_output_units=784):\n",
        "    # Define the generator architecture\n",
        "\n",
        "    model = nn.Sequential()\n",
        "\n",
        "    # Add linear hidden layers with LeakyReLU activations\n",
        "    for i in range(num_hidden_layers):\n",
        "        model.add_module(f'fc_g{i}', nn.Linear(input_size, num_hidden_units)) \n",
        "        model.add_module(f'relu_g{i}', nn.LeakyReLU())     \n",
        "        input_size = num_hidden_units\n",
        "\n",
        "    # Add linear output layer with hyperbolic tangent activation\n",
        "    model.add_module(f'fc_g{num_hidden_layers}', nn.Linear(input_size, num_output_units))   \n",
        "    model.add_module('tanh_g', nn.Tanh())      \n",
        "\n",
        "    return model"
      ]
    },
    {
      "cell_type": "code",
      "execution_count": 25,
      "metadata": {},
      "outputs": [],
      "source": [
        "def make_discriminator_network(\n",
        "        input_size,\n",
        "        num_hidden_layers=1,\n",
        "        num_hidden_units=100,\n",
        "        num_output_units=1):\n",
        "    # Define the discriminator architecture\n",
        "\n",
        "    # Add linear hidden layers with LeakyReLU activation and dropout\n",
        "    model = nn.Sequential()\n",
        "    for i in range(num_hidden_layers):\n",
        "        model.add_module(f'fc_d{i}', nn.Linear(input_size, num_hidden_units, bias=False)) \n",
        "        model.add_module(f'relu_d{i}', nn.LeakyReLU())  \n",
        "        model.add_module('dropout', nn.Dropout(p=0.5))\n",
        "        input_size = num_hidden_units\n",
        "\n",
        "    # Add linear output layer with sigmoid activation\n",
        "    model.add_module(f'fc_d{num_hidden_layers}', nn.Linear(input_size, num_output_units))   \n",
        "    model.add_module('sigmoid', nn.Sigmoid())\n",
        "    \n",
        "    return model"
      ]
    },
    {
      "cell_type": "code",
      "execution_count": 26,
      "metadata": {},
      "outputs": [
        {
          "name": "stdout",
          "output_type": "stream",
          "text": [
            "Sequential(\n",
            "  (fc_g0): Linear(in_features=20, out_features=100, bias=True)\n",
            "  (relu_g0): LeakyReLU(negative_slope=0.01)\n",
            "  (fc_g1): Linear(in_features=100, out_features=784, bias=True)\n",
            "  (tanh_g): Tanh()\n",
            ")\n"
          ]
        }
      ],
      "source": [
        "# Instantiate the generator and discriminator\n",
        "image_size = (28, 28)\n",
        "z_size = 20\n",
        "\n",
        "gen_hidden_layers = 1\n",
        "gen_hidden_size = 100\n",
        "disc_hidden_layers = 1\n",
        "disc_hidden_size = 100\n",
        "\n",
        "gen_model = make_generator_network(\n",
        "    input_size=z_size,\n",
        "    num_hidden_layers=gen_hidden_layers, \n",
        "    num_hidden_units=gen_hidden_size,\n",
        "    num_output_units=np.prod(image_size))\n",
        " \n",
        "print(gen_model)"
      ]
    },
    {
      "cell_type": "code",
      "execution_count": 27,
      "metadata": {},
      "outputs": [
        {
          "name": "stdout",
          "output_type": "stream",
          "text": [
            "Sequential(\n",
            "  (fc_d0): Linear(in_features=784, out_features=100, bias=False)\n",
            "  (relu_d0): LeakyReLU(negative_slope=0.01)\n",
            "  (dropout): Dropout(p=0.5, inplace=False)\n",
            "  (fc_d1): Linear(in_features=100, out_features=1, bias=True)\n",
            "  (sigmoid): Sigmoid()\n",
            ")\n"
          ]
        }
      ],
      "source": [
        "# Make discriminator\n",
        "disc_model = make_discriminator_network(\n",
        "    input_size=np.prod(image_size),\n",
        "    num_hidden_layers=disc_hidden_layers,\n",
        "    num_hidden_units=disc_hidden_size)\n",
        "\n",
        "print(disc_model)"
      ]
    },
    {
      "cell_type": "markdown",
      "metadata": {},
      "source": [
        "### Define loss functions and optimizers"
      ]
    },
    {
      "cell_type": "code",
      "execution_count": 28,
      "metadata": {},
      "outputs": [],
      "source": [
        "# Use binary cross entropy loss (NLL) for both generator and discriminator\n",
        "loss_fn = nn.BCELoss()\n",
        "\n",
        "# Use Adam optimizers\n",
        "g_optimizer = torch.optim.Adam(gen_model.parameters())\n",
        "d_optimizer = torch.optim.Adam(disc_model.parameters())"
      ]
    },
    {
      "attachments": {},
      "cell_type": "markdown",
      "metadata": {},
      "source": [
        "### Set up training loop"
      ]
    },
    {
      "cell_type": "code",
      "execution_count": 29,
      "metadata": {},
      "outputs": [],
      "source": [
        "def create_noise(batch_size, z_size, mode_z):\n",
        "    # Create a batch of z inputs to generate fake images\n",
        "\n",
        "    if mode_z == 'uniform':\n",
        "        input_z = torch.rand(batch_size, z_size)*2 - 1 \n",
        "    elif mode_z == 'normal':\n",
        "        input_z = torch.randn(batch_size, z_size)\n",
        "        \n",
        "    return input_z"
      ]
    },
    {
      "cell_type": "code",
      "execution_count": 34,
      "metadata": {},
      "outputs": [],
      "source": [
        "def train_discriminator(x,disc_model,gen_model,mode_z,loss_fn):\n",
        "    # Train discriminator for one step\n",
        "    \n",
        "    disc_model.zero_grad()\n",
        "\n",
        "    # Train with a batch of real images\n",
        "    batch_size = x.size(0)\n",
        "    x = x.view(batch_size, -1).to(device)\n",
        "    d_labels_real = torch.ones(batch_size, 1, device=device)\n",
        "\n",
        "    # Get predictions on the real images and calculate loss\n",
        "    d_proba_real = disc_model(x)\n",
        "    d_loss_real = loss_fn(d_proba_real, d_labels_real)\n",
        "\n",
        "    # Train discriminator on a batch of fake images\n",
        "    input_z = create_noise(batch_size, z_size, mode_z).to(device)\n",
        "    g_output = gen_model(input_z)\n",
        "    \n",
        "    d_proba_fake = disc_model(g_output)\n",
        "    d_labels_fake = torch.zeros(batch_size, 1, device=device)\n",
        "    d_loss_fake = loss_fn(d_proba_fake, d_labels_fake)\n",
        "\n",
        "    # Add the loss on the real and fake images and backpropagate it across the discriminator\n",
        "    d_loss = d_loss_real + d_loss_fake\n",
        "    d_loss.backward()\n",
        "    d_optimizer.step()\n",
        "  \n",
        "    return d_loss.data.item(), d_proba_real.detach(), d_proba_fake.detach()"
      ]
    },
    {
      "cell_type": "code",
      "execution_count": 39,
      "metadata": {},
      "outputs": [],
      "source": [
        "def train_generator(x,disc_model,gen_model,mode_z,loss_fn):\n",
        "    # Train generator for one step\n",
        "\n",
        "    gen_model.zero_grad()\n",
        "    \n",
        "    # Create batch of z inputs and labels (switched so label is 1)\n",
        "    batch_size = x.size(0)\n",
        "    input_z = create_noise(batch_size, z_size, mode_z).to(device)\n",
        "    g_labels_real = torch.ones(batch_size, 1, device=device)\n",
        "\n",
        "    # Pass the z inputs through the generator, get predictions and calculate loss\n",
        "    g_output = gen_model(input_z)\n",
        "    d_proba_fake = disc_model(g_output)\n",
        "    g_loss = loss_fn(d_proba_fake, g_labels_real)\n",
        "\n",
        "    # Backpropagate the loss across the generator\n",
        "    g_loss.backward()\n",
        "    g_optimizer.step()\n",
        "        \n",
        "    return g_loss.data.item()"
      ]
    },
    {
      "cell_type": "markdown",
      "metadata": {},
      "source": [
        "### Run training and create samples from generator each epoch"
      ]
    },
    {
      "cell_type": "code",
      "execution_count": 41,
      "metadata": {},
      "outputs": [
        {
          "name": "stdout",
          "output_type": "stream",
          "text": [
            "Epoch 000 | Avg Losses >> G/D 0.893/0.951 [D-Real: 0.777 D-Fake: 0.474]\n",
            "Epoch 001 | Avg Losses >> G/D 0.820/1.254 [D-Real: 0.564 D-Fake: 0.466]\n",
            "Epoch 002 | Avg Losses >> G/D 0.872/1.227 [D-Real: 0.567 D-Fake: 0.442]\n",
            "Epoch 003 | Avg Losses >> G/D 1.035/1.142 [D-Real: 0.603 D-Fake: 0.400]\n",
            "Epoch 004 | Avg Losses >> G/D 0.945/1.206 [D-Real: 0.582 D-Fake: 0.423]\n"
          ]
        }
      ],
      "source": [
        "# Get a fixed set of z inputs to generate images from after each epoch of training\n",
        "# This will show us how the generator improves over time\n",
        "mode_z = 'uniform'\n",
        "fixed_z = create_noise(batch_size, z_size, mode_z).to(device)\n",
        "\n",
        "def create_samples(g_model, batch_size, image_size, input_z):\n",
        "    g_output = g_model(input_z)\n",
        "    images = torch.reshape(g_output, (batch_size, *image_size))    \n",
        "    return (images+1)/2.0\n",
        "\n",
        "\n",
        "epoch_samples = []\n",
        "all_d_losses = []\n",
        "all_g_losses = []\n",
        "all_d_real = []\n",
        "all_d_fake = []\n",
        "\n",
        "# Run training loop\n",
        "epochs = 5\n",
        "for epoch in range(epochs):           \n",
        "    d_losses, g_losses = [], []\n",
        "    d_vals_real, d_vals_fake = [], []\n",
        "    for i, (x, _) in enumerate(trainloader):\n",
        "        # Train the discriminator first\n",
        "        d_loss, d_proba_real, d_proba_fake = train_discriminator(x,disc_model,gen_model,mode_z,loss_fn)\n",
        "        d_losses.append(d_loss)\n",
        "        # Train generator\n",
        "        g_loss = train_generator(x,disc_model,gen_model,mode_z,loss_fn)\n",
        "        g_losses.append(g_loss)\n",
        "        \n",
        "        d_vals_real.append(d_proba_real.mean().cpu())\n",
        "        d_vals_fake.append(d_proba_fake.mean().cpu())\n",
        "        \n",
        "    # Store the average losses and the average probability of real and fake for each epoch\n",
        "    all_d_losses.append(torch.tensor(d_losses).mean())\n",
        "    all_g_losses.append(torch.tensor(g_losses).mean())\n",
        "    all_d_real.append(torch.tensor(d_vals_real).mean())\n",
        "    all_d_fake.append(torch.tensor(d_vals_fake).mean())\n",
        "\n",
        "    print(f'Epoch {epoch:03d} | Avg Losses >>'\n",
        "          f' G/D {all_g_losses[-1]:.3f}/{all_d_losses[-1]:.3f}'\n",
        "          f' [D-Real: {all_d_real[-1]:.3f} D-Fake: {all_d_fake[-1]:.3f}]')\n",
        "\n",
        "    # Create samples each epoch using generator on fixed z input batch to show progress\n",
        "    epoch_samples.append(create_samples(gen_model, batch_size, image_size, fixed_z).detach().cpu().numpy())\n"
      ]
    },
    {
      "cell_type": "markdown",
      "metadata": {},
      "source": [
        "### Visualize the training results"
      ]
    },
    {
      "cell_type": "code",
      "execution_count": 45,
      "metadata": {},
      "outputs": [
        {
          "data": {
            "image/png": "[encoded data removed]",
            "text/plain": [
              "<Figure size 1152x432 with 2 Axes>"
            ]
          },
          "metadata": {
            "needs_background": "light"
          },
          "output_type": "display_data"
        }
      ],
      "source": [
        "fig = plt.figure(figsize=(16, 6))\n",
        "\n",
        "## Plotting the losses\n",
        "ax = fig.add_subplot(1, 2, 1)\n",
        " \n",
        "plt.plot(all_g_losses, label='Generator loss')\n",
        "half_d_losses = [all_d_loss/2 for all_d_loss in all_d_losses]\n",
        "plt.plot(half_d_losses, label='Discriminator loss')\n",
        "plt.legend()\n",
        "ax.set_xlabel('Iteration')\n",
        "ax.set_ylabel('Loss')\n",
        "\n",
        "## Plotting the outputs of the discriminator\n",
        "ax = fig.add_subplot(1, 2, 2)\n",
        "plt.plot(all_d_real, label=r'Real: $D(\\mathbf{x})$')\n",
        "plt.plot(all_d_fake, label=r'Fake: $D(G(\\mathbf{z}))$')\n",
        "plt.legend()\n",
        "ax.set_xlabel('Iteration')\n",
        "ax.set_ylabel('Discriminator output')\n",
        "\n",
        "plt.show()"
      ]
    },
    {
      "cell_type": "code",
      "execution_count": null,
      "metadata": {},
      "outputs": [],
      "source": [
        "# Visualize some generated images after select epochs to show progress of generator training\n",
        "selected_epochs = [1, 2, 4, 10, 50, 100]\n",
        "fig = plt.figure(figsize=(10, 14))\n",
        "for i,e in enumerate(selected_epochs):\n",
        "    for j in range(5):\n",
        "        ax = fig.add_subplot(6, 5, i*5+j+1)\n",
        "        ax.set_xticks([])\n",
        "        ax.set_yticks([])\n",
        "        if j == 0:\n",
        "            ax.text(\n",
        "                -0.06, 0.5, f'Epoch {e}',\n",
        "                rotation=90, size=18, color='red',\n",
        "                horizontalalignment='right',\n",
        "                verticalalignment='center', \n",
        "                transform=ax.transAxes)\n",
        "        \n",
        "        image = epoch_samples[e-1][j]\n",
        "        ax.imshow(image, cmap='gray_r')\n",
        "    \n",
        "plt.show()"
      ]
    }
  ],
  "metadata": {
    "colab": {
      "collapsed_sections": [],
      "name": "cnn_basics.ipynb",
      "provenance": []
    },
    "kernelspec": {
      "display_name": "aipi540",
      "language": "python",
      "name": "python3"
    },
    "language_info": {
      "codemirror_mode": {
        "name": "ipython",
        "version": 3
      },
      "file_extension": ".py",
      "mimetype": "text/x-python",
      "name": "python",
      "nbconvert_exporter": "python",
      "pygments_lexer": "ipython3",
      "version": "3.9.7"
    },
    "vscode": {
      "interpreter": {
        "hash": "31cc86d7aac4849c7546154c9b56d60163d5e8a1d83593a5eed18774fbf4fd37"
      }
    }
  },
  "nbformat": 4,
  "nbformat_minor": 0
}
