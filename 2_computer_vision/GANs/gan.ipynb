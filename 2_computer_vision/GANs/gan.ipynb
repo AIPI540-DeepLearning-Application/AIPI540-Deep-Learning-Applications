{
  "cells": [
    {
      "cell_type": "markdown",
      "metadata": {
        "id": "h2OkAhQG2V8n"
      },
      "source": [
        "<a href='https://ai.meng.duke.edu'> = <img align=\"left\" style=\"padding-top:10px;\" src=https://storage.googleapis.com/aipi_datasets/Duke-AIPI-Logo.png>"
      ]
    },
    {
      "cell_type": "markdown",
      "metadata": {
        "id": "f3bKXytY2V8r"
      },
      "source": [
        "# GAN Example\n",
        "In this demo notebook we are going to demonstrate the creation and use of a Generative Adversarial Network as implemented in the [original GAN paper by Goodfellow et al.](https://arxiv.org/pdf/1406.2661.pdf) For demonstration purposes, our objective will be to create a GAN which is trained on MNIST and able to generate images of handwritten digits.\n",
        "\n",
        "**Notes:**\n",
        "- This notebook should be run on GPU\n",
        "\n",
        "**References:**\n",
        "- Read the [original GAN paper](https://arxiv.org/pdf/1406.2661.pdf) for details on the training process  \n",
        "- This implementation is based on the [implementation by Raschka et al. in Machine Learning with PyTorch and Scikit-Learn](https://github.com/rasbt/machine-learning-book)"
      ]
    },
    {
      "cell_type": "code",
      "execution_count": 1,
      "metadata": {
        "id": "nZRokJihAd3v",
        "outputId": "b5aa2d53-d0c1-4691-a2ed-1979775497fd",
        "colab": {
          "base_uri": "https://localhost:8080/"
        }
      },
      "outputs": [
        {
          "output_type": "stream",
          "name": "stdout",
          "text": [
            "Cloning into 'AIPI540-Deep-Learning-Applications'...\n",
            "remote: Enumerating objects: 1713, done.\u001b[K\n",
            "remote: Counting objects: 100% (133/133), done.\u001b[K\n",
            "remote: Compressing objects: 100% (85/85), done.\u001b[K\n",
            "remote: Total 1713 (delta 56), reused 116 (delta 45), pack-reused 1580\u001b[K\n",
            "Receiving objects: 100% (1713/1713), 344.11 MiB | 15.64 MiB/s, done.\n",
            "Resolving deltas: 100% (614/614), done.\n",
            "Updating files: 100% (550/550), done.\n",
            "/content/AIPI540-Deep-Learning-Applications/2_computer_vision/GANs\n",
            "simple_gan.ipynb\n"
          ]
        }
      ],
      "source": [
        "# Run this cell only if working in Colab\n",
        "# Connects to any needed files from GitHub and Google Drive\n",
        "import os\n",
        "\n",
        "# Remove Colab default sample_data\n",
        "!rm -r ./sample_data\n",
        "\n",
        "# Clone GitHub files to colab workspace\n",
        "repo_name = \"AIPI540-Deep-Learning-Applications\" # Enter repo name\n",
        "git_path = 'https://github.com/AIPI540/AIPI540-Deep-Learning-Applications.git'\n",
        "!git clone \"{git_path}\"\n",
        "\n",
        "# Install dependencies from requirements.txt file\n",
        "#!pip install -r \"{os.path.join(repo_name,'requirements.txt')}\"\n",
        "\n",
        "# Change working directory to location of notebook\n",
        "notebook_dir = '2_computer_vision/GANs'\n",
        "path_to_notebook = os.path.join(repo_name,notebook_dir)\n",
        "%cd \"{path_to_notebook}\"\n",
        "%ls"
      ]
    },
    {
      "cell_type": "code",
      "execution_count": 2,
      "metadata": {
        "id": "77g7pHdf2V8s",
        "outputId": "9e18dc6c-edcf-4de0-983c-e487712ccf33",
        "colab": {
          "base_uri": "https://localhost:8080/"
        }
      },
      "outputs": [
        {
          "output_type": "stream",
          "name": "stdout",
          "text": [
            "torch:  1.13 ; cuda:  cu116\n"
          ]
        }
      ],
      "source": [
        "import os\n",
        "import numpy as np\n",
        "import torch\n",
        "from torchvision import datasets, transforms\n",
        "import torchvision\n",
        "from torch.utils.data import DataLoader, TensorDataset\n",
        "\n",
        "import torch.nn as nn\n",
        "import torch.nn.functional as F\n",
        "import torch.optim as optim\n",
        "import matplotlib.pyplot as plt\n",
        "\n",
        "torch.manual_seed(1)\n",
        "\n",
        "TORCH_VERSION = \".\".join(torch.__version__.split(\".\")[:2])\n",
        "CUDA_VERSION = torch.__version__.split(\"+\")[-1]\n",
        "print(\"torch: \", TORCH_VERSION, \"; cuda: \", CUDA_VERSION)\n",
        "\n",
        "if torch.cuda.is_available():\n",
        "    device = torch.device(\"cuda:0\")\n",
        "else:\n",
        "    device = \"cpu\""
      ]
    },
    {
      "cell_type": "markdown",
      "metadata": {
        "id": "olnE-uZ0UeeG"
      },
      "source": [
        "### Get data and set up dataloaders"
      ]
    },
    {
      "cell_type": "code",
      "execution_count": 3,
      "metadata": {
        "id": "tyaH6H18UeeH",
        "outputId": "69733ac0-692c-4485-ec72-bb24cd1081f4",
        "colab": {
          "base_uri": "https://localhost:8080/",
          "height": 451,
          "referenced_widgets": [
            "61936e6771704df8a327f5d74805ef6b",
            "7e093486cc80418bbc8d3086234def06",
            "92827286a4ab4f09903859025f77b2d0",
            "8d8bd8240d3849b3a255276976d368cf",
            "2bbcc021b8144610b35f70bdcb818657",
            "2b6100b3a609448790824a1e050128a7",
            "7d145d31b9f2403d98a7134001e44e0d",
            "76457f98097d47f680a6261ceb3bbe1c",
            "cafb16d6f71d45bdbff39354fcd8c4a8",
            "5d5f033cfd094870bfea44e559bfa509",
            "b10af18c278146a3b1e210082903ec38",
            "a9bb2c43d48445dea3cfb199c0730c6b",
            "50fb8ccfd4f14818849158e80594e975",
            "17bb3ff850224a5f85ffd72e8dd6d5bb",
            "dd7e1f0c370c47a9b231237e0deb9238",
            "4bc189581d8e496eaf4e1c9ddb87a8de",
            "ce9dd6e6c8e14ebf893b3133cde061e9",
            "8b4c13a40fc043398b3adc69533ad8d9",
            "49189aa7d98b4c829153077897b92dc4",
            "cd3369e01180405da390d64d3fe513e7",
            "8e1476f2d97341da96284894ca8b2606",
            "25647c16eecf4dbe960eec27684eebfa",
            "82a2e85b08c449a0a80528d6193c8cff",
            "30906c1a50cb442a9b21da048d60c70b",
            "e20bb795218547c18f9363a8017228a4",
            "139e73ff716f42fe953d2e46af090f58",
            "3355f82fa64d404e95209dc1492d102e",
            "6720c80bf8ea4416a3f70ae574d4cf83",
            "131440c013f34e7089663d0a214920de",
            "4c28a9944c2548c9831ada4fc93a5b9e",
            "88cf05cbf2834a7aa14b61b760610fdc",
            "b192bfefd49e471b87ca78b535f0a7cb",
            "dea8323ef3a149fe8fa867c390f469dc",
            "32582f8bfe6a4f74a84484a63634d116",
            "3ca2ca73a11f4282a1e39ef09f01ad6f",
            "fb868b8da58345449be623f5bdc38e66",
            "db1683d5c99c4e10bcad5d678b08cf69",
            "62f31c4fcdbd44bd81c03dbd251470e1",
            "7cbb037e3d6449018d60fc59c6b81865",
            "7ac29526ac1049f0a8ea4bc4e0401d46",
            "9b8ab5a1edd94750a844306532416cd5",
            "f01e39d0b6a648229ae794660633e781",
            "829eebd2b5f144b1ac831fafe4be1dd0",
            "809aaddb47da4bd98d31c34f25760e33"
          ]
        }
      },
      "outputs": [
        {
          "output_type": "stream",
          "name": "stdout",
          "text": [
            "Downloading http://yann.lecun.com/exdb/mnist/train-images-idx3-ubyte.gz\n",
            "Downloading http://yann.lecun.com/exdb/mnist/train-images-idx3-ubyte.gz to data/MNIST/raw/train-images-idx3-ubyte.gz\n"
          ]
        },
        {
          "output_type": "display_data",
          "data": {
            "text/plain": [
              "  0%|          | 0/9912422 [00:00<?, ?it/s]"
            ],
            "application/vnd.jupyter.widget-view+json": {
              "version_major": 2,
              "version_minor": 0,
              "model_id": "61936e6771704df8a327f5d74805ef6b"
            }
          },
          "metadata": {}
        },
        {
          "output_type": "stream",
          "name": "stdout",
          "text": [
            "Extracting data/MNIST/raw/train-images-idx3-ubyte.gz to data/MNIST/raw\n",
            "\n",
            "Downloading http://yann.lecun.com/exdb/mnist/train-labels-idx1-ubyte.gz\n",
            "Downloading http://yann.lecun.com/exdb/mnist/train-labels-idx1-ubyte.gz to data/MNIST/raw/train-labels-idx1-ubyte.gz\n"
          ]
        },
        {
          "output_type": "display_data",
          "data": {
            "text/plain": [
              "  0%|          | 0/28881 [00:00<?, ?it/s]"
            ],
            "application/vnd.jupyter.widget-view+json": {
              "version_major": 2,
              "version_minor": 0,
              "model_id": "a9bb2c43d48445dea3cfb199c0730c6b"
            }
          },
          "metadata": {}
        },
        {
          "output_type": "stream",
          "name": "stdout",
          "text": [
            "Extracting data/MNIST/raw/train-labels-idx1-ubyte.gz to data/MNIST/raw\n",
            "\n",
            "Downloading http://yann.lecun.com/exdb/mnist/t10k-images-idx3-ubyte.gz\n",
            "Downloading http://yann.lecun.com/exdb/mnist/t10k-images-idx3-ubyte.gz to data/MNIST/raw/t10k-images-idx3-ubyte.gz\n"
          ]
        },
        {
          "output_type": "display_data",
          "data": {
            "text/plain": [
              "  0%|          | 0/1648877 [00:00<?, ?it/s]"
            ],
            "application/vnd.jupyter.widget-view+json": {
              "version_major": 2,
              "version_minor": 0,
              "model_id": "82a2e85b08c449a0a80528d6193c8cff"
            }
          },
          "metadata": {}
        },
        {
          "output_type": "stream",
          "name": "stdout",
          "text": [
            "Extracting data/MNIST/raw/t10k-images-idx3-ubyte.gz to data/MNIST/raw\n",
            "\n",
            "Downloading http://yann.lecun.com/exdb/mnist/t10k-labels-idx1-ubyte.gz\n",
            "Downloading http://yann.lecun.com/exdb/mnist/t10k-labels-idx1-ubyte.gz to data/MNIST/raw/t10k-labels-idx1-ubyte.gz\n"
          ]
        },
        {
          "output_type": "display_data",
          "data": {
            "text/plain": [
              "  0%|          | 0/4542 [00:00<?, ?it/s]"
            ],
            "application/vnd.jupyter.widget-view+json": {
              "version_major": 2,
              "version_minor": 0,
              "model_id": "32582f8bfe6a4f74a84484a63634d116"
            }
          },
          "metadata": {}
        },
        {
          "output_type": "stream",
          "name": "stdout",
          "text": [
            "Extracting data/MNIST/raw/t10k-labels-idx1-ubyte.gz to data/MNIST/raw\n",
            "\n",
            "Min: -1.0 Max: 1.0\n",
            "Shape: torch.Size([1, 28, 28])\n"
          ]
        }
      ],
      "source": [
        "# Download the data\n",
        "if not os.path.exists('./data'):\n",
        "    os.mkdir('./data')\n",
        "\n",
        "# Apply transforms to convert to tensor and normalize pixel values to range [-1,1]\n",
        "transform = transforms.Compose([\n",
        "    transforms.ToTensor(),\n",
        "    transforms.Normalize(mean=(0.5), std=(0.5)),\n",
        "])\n",
        "\n",
        "# Create Dataset\n",
        "train_data = datasets.MNIST(root='data', train=True, transform=transform, download=True)\n",
        "\n",
        "# Create DataLoader\n",
        "batch_size = 64\n",
        "trainloader = DataLoader(train_data, batch_size, shuffle=False)\n",
        "\n",
        "# Check an example\n",
        "img, label = next(iter(train_data))\n",
        "print(f'Min: {img.min()} Max: {img.max()}')\n",
        "print(f'Shape: {img.shape}')"
      ]
    },
    {
      "cell_type": "markdown",
      "metadata": {
        "id": "oOOv5cLfUeeI"
      },
      "source": [
        "### Define architecture of generator and discriminator"
      ]
    },
    {
      "cell_type": "code",
      "execution_count": 4,
      "metadata": {
        "id": "S95t1H-FUeeI"
      },
      "outputs": [],
      "source": [
        "def make_generator_network(\n",
        "        input_size=20,\n",
        "        num_hidden_layers=1,\n",
        "        num_hidden_units=100,\n",
        "        num_output_units=784):\n",
        "    # Define the generator architecture\n",
        "\n",
        "    model = nn.Sequential()\n",
        "\n",
        "    # Add linear hidden layers with LeakyReLU activations\n",
        "    for i in range(num_hidden_layers):\n",
        "        model.add_module(f'fc_g{i}', nn.Linear(input_size, num_hidden_units)) \n",
        "        model.add_module(f'relu_g{i}', nn.LeakyReLU())     \n",
        "        input_size = num_hidden_units\n",
        "\n",
        "    # Add linear output layer with hyperbolic tangent activation\n",
        "    model.add_module(f'fc_g{num_hidden_layers}', nn.Linear(input_size, num_output_units))   \n",
        "    model.add_module('tanh_g', nn.Tanh())      \n",
        "\n",
        "    return model"
      ]
    },
    {
      "cell_type": "code",
      "execution_count": 5,
      "metadata": {
        "id": "TNLuN7ESUeeJ"
      },
      "outputs": [],
      "source": [
        "def make_discriminator_network(\n",
        "        input_size,\n",
        "        num_hidden_layers=1,\n",
        "        num_hidden_units=100,\n",
        "        num_output_units=1):\n",
        "    # Define the discriminator architecture\n",
        "\n",
        "    # Add linear hidden layers with LeakyReLU activation and dropout\n",
        "    model = nn.Sequential()\n",
        "    for i in range(num_hidden_layers):\n",
        "        model.add_module(f'fc_d{i}', nn.Linear(input_size, num_hidden_units, bias=False)) \n",
        "        model.add_module(f'relu_d{i}', nn.LeakyReLU())  \n",
        "        model.add_module('dropout', nn.Dropout(p=0.5))\n",
        "        input_size = num_hidden_units\n",
        "\n",
        "    # Add linear output layer with sigmoid activation\n",
        "    model.add_module(f'fc_d{num_hidden_layers}', nn.Linear(input_size, num_output_units))   \n",
        "    model.add_module('sigmoid', nn.Sigmoid())\n",
        "    \n",
        "    return model"
      ]
    },
    {
      "cell_type": "code",
      "execution_count": 13,
      "metadata": {
        "id": "y5a3qiJJUeeJ",
        "outputId": "752f3905-ddb9-4fea-8d69-0daa22e5e604",
        "colab": {
          "base_uri": "https://localhost:8080/"
        }
      },
      "outputs": [
        {
          "output_type": "stream",
          "name": "stdout",
          "text": [
            "Sequential(\n",
            "  (fc_g0): Linear(in_features=20, out_features=100, bias=True)\n",
            "  (relu_g0): LeakyReLU(negative_slope=0.01)\n",
            "  (fc_g1): Linear(in_features=100, out_features=784, bias=True)\n",
            "  (tanh_g): Tanh()\n",
            ")\n"
          ]
        }
      ],
      "source": [
        "# Instantiate the generator and discriminator\n",
        "image_size = (28, 28)\n",
        "z_size = 20\n",
        "\n",
        "gen_hidden_layers = 1\n",
        "gen_hidden_size = 100\n",
        "disc_hidden_layers = 1\n",
        "disc_hidden_size = 100\n",
        "\n",
        "gen_model = make_generator_network(\n",
        "    input_size=z_size,\n",
        "    num_hidden_layers=gen_hidden_layers, \n",
        "    num_hidden_units=gen_hidden_size,\n",
        "    num_output_units=np.prod(image_size))\n",
        "gen_model = gen_model.to(device)\n",
        " \n",
        "print(gen_model)"
      ]
    },
    {
      "cell_type": "code",
      "execution_count": 14,
      "metadata": {
        "id": "RFt1ZX9VUeeK",
        "outputId": "7ffc3f45-6e80-402c-9c16-d782374756ca",
        "colab": {
          "base_uri": "https://localhost:8080/"
        }
      },
      "outputs": [
        {
          "output_type": "stream",
          "name": "stdout",
          "text": [
            "Sequential(\n",
            "  (fc_d0): Linear(in_features=784, out_features=100, bias=False)\n",
            "  (relu_d0): LeakyReLU(negative_slope=0.01)\n",
            "  (dropout): Dropout(p=0.5, inplace=False)\n",
            "  (fc_d1): Linear(in_features=100, out_features=1, bias=True)\n",
            "  (sigmoid): Sigmoid()\n",
            ")\n"
          ]
        }
      ],
      "source": [
        "# Make discriminator\n",
        "disc_model = make_discriminator_network(\n",
        "    input_size=np.prod(image_size),\n",
        "    num_hidden_layers=disc_hidden_layers,\n",
        "    num_hidden_units=disc_hidden_size)\n",
        "disc_model = disc_model.to(device)\n",
        "\n",
        "print(disc_model)"
      ]
    },
    {
      "cell_type": "markdown",
      "metadata": {
        "id": "QcRfMRHyUeeL"
      },
      "source": [
        "### Define loss functions and optimizers"
      ]
    },
    {
      "cell_type": "code",
      "execution_count": 15,
      "metadata": {
        "id": "g2mR-MNnUeeL"
      },
      "outputs": [],
      "source": [
        "# Use binary cross entropy loss (NLL) for both generator and discriminator\n",
        "loss_fn = nn.BCELoss()\n",
        "\n",
        "# Use Adam optimizers\n",
        "g_optimizer = torch.optim.Adam(gen_model.parameters())\n",
        "d_optimizer = torch.optim.Adam(disc_model.parameters())"
      ]
    },
    {
      "cell_type": "markdown",
      "metadata": {
        "id": "En7xVHTcUeeM"
      },
      "source": [
        "### Set up training loop"
      ]
    },
    {
      "cell_type": "code",
      "execution_count": 16,
      "metadata": {
        "id": "2sycXS1zUeeM"
      },
      "outputs": [],
      "source": [
        "def create_noise(batch_size, z_size, mode_z):\n",
        "    # Create a batch of z inputs to generate fake images\n",
        "\n",
        "    if mode_z == 'uniform':\n",
        "        input_z = torch.rand(batch_size, z_size)*2 - 1 \n",
        "    elif mode_z == 'normal':\n",
        "        input_z = torch.randn(batch_size, z_size)\n",
        "        \n",
        "    return input_z"
      ]
    },
    {
      "cell_type": "code",
      "execution_count": 17,
      "metadata": {
        "id": "ocpKJM0dUeeN"
      },
      "outputs": [],
      "source": [
        "def train_discriminator(x,disc_model,gen_model,mode_z,loss_fn):\n",
        "    # Train discriminator for one step\n",
        "    \n",
        "    disc_model.zero_grad()\n",
        "\n",
        "    # Train with a batch of real images\n",
        "    batch_size = x.size(0)\n",
        "    x = x.view(batch_size, -1).to(device)\n",
        "    d_labels_real = torch.ones(batch_size, 1, device=device)\n",
        "\n",
        "    # Get predictions on the real images and calculate loss\n",
        "    d_proba_real = disc_model(x)\n",
        "    d_loss_real = loss_fn(d_proba_real, d_labels_real)\n",
        "\n",
        "    # Train discriminator on a batch of fake images\n",
        "    input_z = create_noise(batch_size, z_size, mode_z).to(device)\n",
        "    g_output = gen_model(input_z)\n",
        "    \n",
        "    d_proba_fake = disc_model(g_output)\n",
        "    d_labels_fake = torch.zeros(batch_size, 1, device=device)\n",
        "    d_loss_fake = loss_fn(d_proba_fake, d_labels_fake)\n",
        "\n",
        "    # Add the loss on the real and fake images and backpropagate it across the discriminator\n",
        "    d_loss = d_loss_real + d_loss_fake\n",
        "    d_loss.backward()\n",
        "    d_optimizer.step()\n",
        "  \n",
        "    return d_loss.data.item(), d_proba_real.detach(), d_proba_fake.detach()"
      ]
    },
    {
      "cell_type": "code",
      "execution_count": 18,
      "metadata": {
        "id": "XUdkfo1dUeeN"
      },
      "outputs": [],
      "source": [
        "def train_generator(x,disc_model,gen_model,mode_z,loss_fn):\n",
        "    # Train generator for one step\n",
        "\n",
        "    gen_model.zero_grad()\n",
        "    \n",
        "    # Create batch of z inputs and labels (switched so label is 1)\n",
        "    batch_size = x.size(0)\n",
        "    input_z = create_noise(batch_size, z_size, mode_z).to(device)\n",
        "    g_labels_real = torch.ones(batch_size, 1, device=device)\n",
        "\n",
        "    # Pass the z inputs through the generator, get predictions and calculate loss\n",
        "    g_output = gen_model(input_z)\n",
        "    d_proba_fake = disc_model(g_output)\n",
        "    g_loss = loss_fn(d_proba_fake, g_labels_real)\n",
        "\n",
        "    # Backpropagate the loss across the generator\n",
        "    g_loss.backward()\n",
        "    g_optimizer.step()\n",
        "        \n",
        "    return g_loss.data.item()"
      ]
    },
    {
      "cell_type": "markdown",
      "metadata": {
        "id": "N00OwSlTUeeO"
      },
      "source": [
        "### Run training and create samples from generator each epoch"
      ]
    },
    {
      "cell_type": "code",
      "execution_count": 19,
      "metadata": {
        "id": "yzYq1REBUeeO",
        "outputId": "e0b8ddc0-8cad-4f8c-f505-28dbaab2c601",
        "colab": {
          "base_uri": "https://localhost:8080/"
        }
      },
      "outputs": [
        {
          "output_type": "stream",
          "name": "stdout",
          "text": [
            "Epoch 001 | Avg Losses >> G/D 0.923/0.852 [D-Real: 0.837 D-Fake: 0.466]\n",
            "Epoch 005 | Avg Losses >> G/D 0.896/1.269 [D-Real: 0.552 D-Fake: 0.442]\n",
            "Epoch 010 | Avg Losses >> G/D 0.995/1.187 [D-Real: 0.591 D-Fake: 0.413]\n",
            "Epoch 015 | Avg Losses >> G/D 0.886/1.256 [D-Real: 0.563 D-Fake: 0.442]\n",
            "Epoch 020 | Avg Losses >> G/D 0.823/1.301 [D-Real: 0.541 D-Fake: 0.458]\n",
            "Epoch 025 | Avg Losses >> G/D 0.780/1.337 [D-Real: 0.526 D-Fake: 0.474]\n",
            "Epoch 030 | Avg Losses >> G/D 0.781/1.330 [D-Real: 0.529 D-Fake: 0.472]\n",
            "Epoch 035 | Avg Losses >> G/D 0.816/1.307 [D-Real: 0.540 D-Fake: 0.462]\n",
            "Epoch 040 | Avg Losses >> G/D 0.787/1.324 [D-Real: 0.532 D-Fake: 0.470]\n",
            "Epoch 045 | Avg Losses >> G/D 0.775/1.342 [D-Real: 0.523 D-Fake: 0.476]\n",
            "Epoch 050 | Avg Losses >> G/D 0.754/1.350 [D-Real: 0.519 D-Fake: 0.480]\n",
            "Epoch 055 | Avg Losses >> G/D 0.768/1.339 [D-Real: 0.525 D-Fake: 0.477]\n",
            "Epoch 060 | Avg Losses >> G/D 0.765/1.341 [D-Real: 0.524 D-Fake: 0.477]\n",
            "Epoch 065 | Avg Losses >> G/D 0.770/1.342 [D-Real: 0.523 D-Fake: 0.477]\n",
            "Epoch 070 | Avg Losses >> G/D 0.762/1.354 [D-Real: 0.518 D-Fake: 0.479]\n",
            "Epoch 075 | Avg Losses >> G/D 0.768/1.344 [D-Real: 0.523 D-Fake: 0.478]\n",
            "Epoch 080 | Avg Losses >> G/D 0.805/1.325 [D-Real: 0.532 D-Fake: 0.467]\n",
            "Epoch 085 | Avg Losses >> G/D 0.810/1.316 [D-Real: 0.535 D-Fake: 0.464]\n",
            "Epoch 090 | Avg Losses >> G/D 0.777/1.333 [D-Real: 0.526 D-Fake: 0.472]\n",
            "Epoch 095 | Avg Losses >> G/D 0.802/1.318 [D-Real: 0.534 D-Fake: 0.466]\n",
            "Epoch 100 | Avg Losses >> G/D 0.790/1.329 [D-Real: 0.529 D-Fake: 0.470]\n"
          ]
        }
      ],
      "source": [
        "# Get a fixed set of z inputs to generate images from after each epoch of training\n",
        "# This will show us how the generator improves over time\n",
        "mode_z = 'uniform'\n",
        "fixed_z = create_noise(batch_size, z_size, mode_z).to(device)\n",
        "\n",
        "def create_samples(g_model, batch_size, image_size, input_z):\n",
        "    g_output = g_model(input_z)\n",
        "    images = torch.reshape(g_output, (batch_size, *image_size))    \n",
        "    return (images+1)/2.0\n",
        "\n",
        "\n",
        "epoch_samples = []\n",
        "all_d_losses = []\n",
        "all_g_losses = []\n",
        "all_d_real = []\n",
        "all_d_fake = []\n",
        "\n",
        "# Run training loop\n",
        "epochs = 100\n",
        "for epoch in range(1,epochs+1):           \n",
        "    d_losses, g_losses = [], []\n",
        "    d_vals_real, d_vals_fake = [], []\n",
        "    for i, (x, _) in enumerate(trainloader):\n",
        "        # Train the discriminator first\n",
        "        d_loss, d_proba_real, d_proba_fake = train_discriminator(x,disc_model,gen_model,mode_z,loss_fn)\n",
        "        d_losses.append(d_loss)\n",
        "        # Train generator\n",
        "        g_loss = train_generator(x,disc_model,gen_model,mode_z,loss_fn)\n",
        "        g_losses.append(g_loss)\n",
        "        \n",
        "        d_vals_real.append(d_proba_real.mean().cpu())\n",
        "        d_vals_fake.append(d_proba_fake.mean().cpu())\n",
        "        \n",
        "    # Store the average losses and the average probability of real and fake for each epoch\n",
        "    all_d_losses.append(torch.tensor(d_losses).mean())\n",
        "    all_g_losses.append(torch.tensor(g_losses).mean())\n",
        "    all_d_real.append(torch.tensor(d_vals_real).mean())\n",
        "    all_d_fake.append(torch.tensor(d_vals_fake).mean())\n",
        "\n",
        "    if (epoch==1) or (epoch % 5 == 0):\n",
        "      print(f'Epoch {epoch:03d} | Avg Losses >>'\n",
        "            f' G/D {all_g_losses[-1]:.3f}/{all_d_losses[-1]:.3f}'\n",
        "            f' [D-Real: {all_d_real[-1]:.3f} D-Fake: {all_d_fake[-1]:.3f}]')\n",
        "\n",
        "    # Create samples each epoch using generator on fixed z input batch to show progress\n",
        "    epoch_samples.append(create_samples(gen_model, batch_size, image_size, fixed_z).detach().cpu().numpy())\n"
      ]
    },
    {
      "cell_type": "markdown",
      "metadata": {
        "id": "sIlTdBKZUeeP"
      },
      "source": [
        "### Visualize the training results"
      ]
    },
    {
      "cell_type": "code",
      "execution_count": 20,
      "metadata": {
        "id": "iXfoZEW8UeeQ",
        "outputId": "756ac773-bbc1-4639-fdd7-554860e58c80",
        "colab": {
          "base_uri": "https://localhost:8080/",
          "height": 388
        }
      },
      "outputs": [
        {
          "output_type": "display_data",
          "data": {
            "text/plain": [
              "<Figure size 1152x432 with 2 Axes>"
            ],
            "image/png": "[encoded data removed]"
          },
          "metadata": {
            "needs_background": "light"
          }
        }
      ],
      "source": [
        "fig = plt.figure(figsize=(16, 6))\n",
        "\n",
        "## Plotting the losses\n",
        "ax = fig.add_subplot(1, 2, 1)\n",
        " \n",
        "plt.plot(all_g_losses, label='Generator loss')\n",
        "half_d_losses = [all_d_loss/2 for all_d_loss in all_d_losses]\n",
        "plt.plot(half_d_losses, label='Discriminator loss')\n",
        "plt.legend()\n",
        "ax.set_xlabel('Iteration')\n",
        "ax.set_ylabel('Loss')\n",
        "\n",
        "## Plotting the outputs of the discriminator\n",
        "ax = fig.add_subplot(1, 2, 2)\n",
        "plt.plot(all_d_real, label=r'Real: $D(\\mathbf{x})$')\n",
        "plt.plot(all_d_fake, label=r'Fake: $D(G(\\mathbf{z}))$')\n",
        "plt.legend()\n",
        "ax.set_xlabel('Iteration')\n",
        "ax.set_ylabel('Discriminator output')\n",
        "\n",
        "plt.show()"
      ]
    },
    {
      "cell_type": "code",
      "execution_count": 21,
      "metadata": {
        "id": "Ezzk74ebUeeR",
        "outputId": "c82ea8f6-4b96-45b9-9a01-68f08eca56cf",
        "colab": {
          "base_uri": "https://localhost:8080/",
          "height": 783
        }
      },
      "outputs": [
        {
          "output_type": "display_data",
          "data": {
            "text/plain": [
              "<Figure size 720x1008 with 30 Axes>"
            ],
            "image/png": "[encoded data removed]"
          },
          "metadata": {}
        }
      ],
      "source": [
        "# Visualize some generated images after select epochs to show progress of generator training\n",
        "selected_epochs = [1, 2, 4, 10, 50, 100]\n",
        "fig = plt.figure(figsize=(10, 14))\n",
        "for i,e in enumerate(selected_epochs):\n",
        "    for j in range(5):\n",
        "        ax = fig.add_subplot(6, 5, i*5+j+1)\n",
        "        ax.set_xticks([])\n",
        "        ax.set_yticks([])\n",
        "        if j == 0:\n",
        "            ax.text(\n",
        "                -0.06, 0.5, f'Epoch {e}',\n",
        "                rotation=90, size=18, color='red',\n",
        "                horizontalalignment='right',\n",
        "                verticalalignment='center', \n",
        "                transform=ax.transAxes)\n",
        "        \n",
        "        image = epoch_samples[e-1][j]\n",
        "        ax.imshow(image, cmap='gray_r')\n",
        "    \n",
        "plt.show()"
      ]
    },
    {
      "cell_type": "code",
      "source": [],
      "metadata": {
        "id": "3avCtOCqa69Q"
      },
      "execution_count": null,
      "outputs": []
    }
  ],
  "metadata": {
    "colab": {
      "name": "cnn_basics.ipynb",
      "provenance": []
    },
    "kernelspec": {
      "display_name": "aipi540",
      "language": "python",
      "name": "python3"
    },
    "language_info": {
      "codemirror_mode": {
        "name": "ipython",
        "version": 3
      },
      "file_extension": ".py",
      "mimetype": "text/x-python",
      "name": "python",
      "nbconvert_exporter": "python",
      "pygments_lexer": "ipython3",
      "version": "3.9.7"
    },
    "vscode": {
      "interpreter": {
        "hash": "31cc86d7aac4849c7546154c9b56d60163d5e8a1d83593a5eed18774fbf4fd37"
      }
    },
    "accelerator": "GPU",
    "gpuClass": "standard",
    "widgets": {
      "application/vnd.jupyter.widget-state+json": {
        "61936e6771704df8a327f5d74805ef6b": {
          "model_module": "@jupyter-widgets/controls",
          "model_name": "HBoxModel",
          "model_module_version": "1.5.0",
          "state": {
            "_dom_classes": [],
            "_model_module": "@jupyter-widgets/controls",
            "_model_module_version": "1.5.0",
            "_model_name": "HBoxModel",
            "_view_count": null,
            "_view_module": "@jupyter-widgets/controls",
            "_view_module_version": "1.5.0",
            "_view_name": "HBoxView",
            "box_style": "",
            "children": [
              "IPY_MODEL_7e093486cc80418bbc8d3086234def06",
              "IPY_MODEL_92827286a4ab4f09903859025f77b2d0",
              "IPY_MODEL_8d8bd8240d3849b3a255276976d368cf"
            ],
            "layout": "IPY_MODEL_2bbcc021b8144610b35f70bdcb818657"
          }
        },
        "7e093486cc80418bbc8d3086234def06": {
          "model_module": "@jupyter-widgets/controls",
          "model_name": "HTMLModel",
          "model_module_version": "1.5.0",
          "state": {
            "_dom_classes": [],
            "_model_module": "@jupyter-widgets/controls",
            "_model_module_version": "1.5.0",
            "_model_name": "HTMLModel",
            "_view_count": null,
            "_view_module": "@jupyter-widgets/controls",
            "_view_module_version": "1.5.0",
            "_view_name": "HTMLView",
            "description": "",
            "description_tooltip": null,
            "layout": "IPY_MODEL_2b6100b3a609448790824a1e050128a7",
            "placeholder": "​",
            "style": "IPY_MODEL_7d145d31b9f2403d98a7134001e44e0d",
            "value": "100%"
          }
        },
        "92827286a4ab4f09903859025f77b2d0": {
          "model_module": "@jupyter-widgets/controls",
          "model_name": "FloatProgressModel",
          "model_module_version": "1.5.0",
          "state": {
            "_dom_classes": [],
            "_model_module": "@jupyter-widgets/controls",
            "_model_module_version": "1.5.0",
            "_model_name": "FloatProgressModel",
            "_view_count": null,
            "_view_module": "@jupyter-widgets/controls",
            "_view_module_version": "1.5.0",
            "_view_name": "ProgressView",
            "bar_style": "success",
            "description": "",
            "description_tooltip": null,
            "layout": "IPY_MODEL_76457f98097d47f680a6261ceb3bbe1c",
            "max": 9912422,
            "min": 0,
            "orientation": "horizontal",
            "style": "IPY_MODEL_cafb16d6f71d45bdbff39354fcd8c4a8",
            "value": 9912422
          }
        },
        "8d8bd8240d3849b3a255276976d368cf": {
          "model_module": "@jupyter-widgets/controls",
          "model_name": "HTMLModel",
          "model_module_version": "1.5.0",
          "state": {
            "_dom_classes": [],
            "_model_module": "@jupyter-widgets/controls",
            "_model_module_version": "1.5.0",
            "_model_name": "HTMLModel",
            "_view_count": null,
            "_view_module": "@jupyter-widgets/controls",
            "_view_module_version": "1.5.0",
            "_view_name": "HTMLView",
            "description": "",
            "description_tooltip": null,
            "layout": "IPY_MODEL_5d5f033cfd094870bfea44e559bfa509",
            "placeholder": "​",
            "style": "IPY_MODEL_b10af18c278146a3b1e210082903ec38",
            "value": " 9912422/9912422 [00:00&lt;00:00, 15267457.69it/s]"
          }
        },
        "2bbcc021b8144610b35f70bdcb818657": {
          "model_module": "@jupyter-widgets/base",
          "model_name": "LayoutModel",
          "model_module_version": "1.2.0",
          "state": {
            "_model_module": "@jupyter-widgets/base",
            "_model_module_version": "1.2.0",
            "_model_name": "LayoutModel",
            "_view_count": null,
            "_view_module": "@jupyter-widgets/base",
            "_view_module_version": "1.2.0",
            "_view_name": "LayoutView",
            "align_content": null,
            "align_items": null,
            "align_self": null,
            "border": null,
            "bottom": null,
            "display": null,
            "flex": null,
            "flex_flow": null,
            "grid_area": null,
            "grid_auto_columns": null,
            "grid_auto_flow": null,
            "grid_auto_rows": null,
            "grid_column": null,
            "grid_gap": null,
            "grid_row": null,
            "grid_template_areas": null,
            "grid_template_columns": null,
            "grid_template_rows": null,
            "height": null,
            "justify_content": null,
            "justify_items": null,
            "left": null,
            "margin": null,
            "max_height": null,
            "max_width": null,
            "min_height": null,
            "min_width": null,
            "object_fit": null,
            "object_position": null,
            "order": null,
            "overflow": null,
            "overflow_x": null,
            "overflow_y": null,
            "padding": null,
            "right": null,
            "top": null,
            "visibility": null,
            "width": null
          }
        },
        "2b6100b3a609448790824a1e050128a7": {
          "model_module": "@jupyter-widgets/base",
          "model_name": "LayoutModel",
          "model_module_version": "1.2.0",
          "state": {
            "_model_module": "@jupyter-widgets/base",
            "_model_module_version": "1.2.0",
            "_model_name": "LayoutModel",
            "_view_count": null,
            "_view_module": "@jupyter-widgets/base",
            "_view_module_version": "1.2.0",
            "_view_name": "LayoutView",
            "align_content": null,
            "align_items": null,
            "align_self": null,
            "border": null,
            "bottom": null,
            "display": null,
            "flex": null,
            "flex_flow": null,
            "grid_area": null,
            "grid_auto_columns": null,
            "grid_auto_flow": null,
            "grid_auto_rows": null,
            "grid_column": null,
            "grid_gap": null,
            "grid_row": null,
            "grid_template_areas": null,
            "grid_template_columns": null,
            "grid_template_rows": null,
            "height": null,
            "justify_content": null,
            "justify_items": null,
            "left": null,
            "margin": null,
            "max_height": null,
            "max_width": null,
            "min_height": null,
            "min_width": null,
            "object_fit": null,
            "object_position": null,
            "order": null,
            "overflow": null,
            "overflow_x": null,
            "overflow_y": null,
            "padding": null,
            "right": null,
            "top": null,
            "visibility": null,
            "width": null
          }
        },
        "7d145d31b9f2403d98a7134001e44e0d": {
          "model_module": "@jupyter-widgets/controls",
          "model_name": "DescriptionStyleModel",
          "model_module_version": "1.5.0",
          "state": {
            "_model_module": "@jupyter-widgets/controls",
            "_model_module_version": "1.5.0",
            "_model_name": "DescriptionStyleModel",
            "_view_count": null,
            "_view_module": "@jupyter-widgets/base",
            "_view_module_version": "1.2.0",
            "_view_name": "StyleView",
            "description_width": ""
          }
        },
        "76457f98097d47f680a6261ceb3bbe1c": {
          "model_module": "@jupyter-widgets/base",
          "model_name": "LayoutModel",
          "model_module_version": "1.2.0",
          "state": {
            "_model_module": "@jupyter-widgets/base",
            "_model_module_version": "1.2.0",
            "_model_name": "LayoutModel",
            "_view_count": null,
            "_view_module": "@jupyter-widgets/base",
            "_view_module_version": "1.2.0",
            "_view_name": "LayoutView",
            "align_content": null,
            "align_items": null,
            "align_self": null,
            "border": null,
            "bottom": null,
            "display": null,
            "flex": null,
            "flex_flow": null,
            "grid_area": null,
            "grid_auto_columns": null,
            "grid_auto_flow": null,
            "grid_auto_rows": null,
            "grid_column": null,
            "grid_gap": null,
            "grid_row": null,
            "grid_template_areas": null,
            "grid_template_columns": null,
            "grid_template_rows": null,
            "height": null,
            "justify_content": null,
            "justify_items": null,
            "left": null,
            "margin": null,
            "max_height": null,
            "max_width": null,
            "min_height": null,
            "min_width": null,
            "object_fit": null,
            "object_position": null,
            "order": null,
            "overflow": null,
            "overflow_x": null,
            "overflow_y": null,
            "padding": null,
            "right": null,
            "top": null,
            "visibility": null,
            "width": null
          }
        },
        "cafb16d6f71d45bdbff39354fcd8c4a8": {
          "model_module": "@jupyter-widgets/controls",
          "model_name": "ProgressStyleModel",
          "model_module_version": "1.5.0",
          "state": {
            "_model_module": "@jupyter-widgets/controls",
            "_model_module_version": "1.5.0",
            "_model_name": "ProgressStyleModel",
            "_view_count": null,
            "_view_module": "@jupyter-widgets/base",
            "_view_module_version": "1.2.0",
            "_view_name": "StyleView",
            "bar_color": null,
            "description_width": ""
          }
        },
        "5d5f033cfd094870bfea44e559bfa509": {
          "model_module": "@jupyter-widgets/base",
          "model_name": "LayoutModel",
          "model_module_version": "1.2.0",
          "state": {
            "_model_module": "@jupyter-widgets/base",
            "_model_module_version": "1.2.0",
            "_model_name": "LayoutModel",
            "_view_count": null,
            "_view_module": "@jupyter-widgets/base",
            "_view_module_version": "1.2.0",
            "_view_name": "LayoutView",
            "align_content": null,
            "align_items": null,
            "align_self": null,
            "border": null,
            "bottom": null,
            "display": null,
            "flex": null,
            "flex_flow": null,
            "grid_area": null,
            "grid_auto_columns": null,
            "grid_auto_flow": null,
            "grid_auto_rows": null,
            "grid_column": null,
            "grid_gap": null,
            "grid_row": null,
            "grid_template_areas": null,
            "grid_template_columns": null,
            "grid_template_rows": null,
            "height": null,
            "justify_content": null,
            "justify_items": null,
            "left": null,
            "margin": null,
            "max_height": null,
            "max_width": null,
            "min_height": null,
            "min_width": null,
            "object_fit": null,
            "object_position": null,
            "order": null,
            "overflow": null,
            "overflow_x": null,
            "overflow_y": null,
            "padding": null,
            "right": null,
            "top": null,
            "visibility": null,
            "width": null
          }
        },
        "b10af18c278146a3b1e210082903ec38": {
          "model_module": "@jupyter-widgets/controls",
          "model_name": "DescriptionStyleModel",
          "model_module_version": "1.5.0",
          "state": {
            "_model_module": "@jupyter-widgets/controls",
            "_model_module_version": "1.5.0",
            "_model_name": "DescriptionStyleModel",
            "_view_count": null,
            "_view_module": "@jupyter-widgets/base",
            "_view_module_version": "1.2.0",
            "_view_name": "StyleView",
            "description_width": ""
          }
        },
        "a9bb2c43d48445dea3cfb199c0730c6b": {
          "model_module": "@jupyter-widgets/controls",
          "model_name": "HBoxModel",
          "model_module_version": "1.5.0",
          "state": {
            "_dom_classes": [],
            "_model_module": "@jupyter-widgets/controls",
            "_model_module_version": "1.5.0",
            "_model_name": "HBoxModel",
            "_view_count": null,
            "_view_module": "@jupyter-widgets/controls",
            "_view_module_version": "1.5.0",
            "_view_name": "HBoxView",
            "box_style": "",
            "children": [
              "IPY_MODEL_50fb8ccfd4f14818849158e80594e975",
              "IPY_MODEL_17bb3ff850224a5f85ffd72e8dd6d5bb",
              "IPY_MODEL_dd7e1f0c370c47a9b231237e0deb9238"
            ],
            "layout": "IPY_MODEL_4bc189581d8e496eaf4e1c9ddb87a8de"
          }
        },
        "50fb8ccfd4f14818849158e80594e975": {
          "model_module": "@jupyter-widgets/controls",
          "model_name": "HTMLModel",
          "model_module_version": "1.5.0",
          "state": {
            "_dom_classes": [],
            "_model_module": "@jupyter-widgets/controls",
            "_model_module_version": "1.5.0",
            "_model_name": "HTMLModel",
            "_view_count": null,
            "_view_module": "@jupyter-widgets/controls",
            "_view_module_version": "1.5.0",
            "_view_name": "HTMLView",
            "description": "",
            "description_tooltip": null,
            "layout": "IPY_MODEL_ce9dd6e6c8e14ebf893b3133cde061e9",
            "placeholder": "​",
            "style": "IPY_MODEL_8b4c13a40fc043398b3adc69533ad8d9",
            "value": "100%"
          }
        },
        "17bb3ff850224a5f85ffd72e8dd6d5bb": {
          "model_module": "@jupyter-widgets/controls",
          "model_name": "FloatProgressModel",
          "model_module_version": "1.5.0",
          "state": {
            "_dom_classes": [],
            "_model_module": "@jupyter-widgets/controls",
            "_model_module_version": "1.5.0",
            "_model_name": "FloatProgressModel",
            "_view_count": null,
            "_view_module": "@jupyter-widgets/controls",
            "_view_module_version": "1.5.0",
            "_view_name": "ProgressView",
            "bar_style": "success",
            "description": "",
            "description_tooltip": null,
            "layout": "IPY_MODEL_49189aa7d98b4c829153077897b92dc4",
            "max": 28881,
            "min": 0,
            "orientation": "horizontal",
            "style": "IPY_MODEL_cd3369e01180405da390d64d3fe513e7",
            "value": 28881
          }
        },
        "dd7e1f0c370c47a9b231237e0deb9238": {
          "model_module": "@jupyter-widgets/controls",
          "model_name": "HTMLModel",
          "model_module_version": "1.5.0",
          "state": {
            "_dom_classes": [],
            "_model_module": "@jupyter-widgets/controls",
            "_model_module_version": "1.5.0",
            "_model_name": "HTMLModel",
            "_view_count": null,
            "_view_module": "@jupyter-widgets/controls",
            "_view_module_version": "1.5.0",
            "_view_name": "HTMLView",
            "description": "",
            "description_tooltip": null,
            "layout": "IPY_MODEL_8e1476f2d97341da96284894ca8b2606",
            "placeholder": "​",
            "style": "IPY_MODEL_25647c16eecf4dbe960eec27684eebfa",
            "value": " 28881/28881 [00:00&lt;00:00, 1884940.38it/s]"
          }
        },
        "4bc189581d8e496eaf4e1c9ddb87a8de": {
          "model_module": "@jupyter-widgets/base",
          "model_name": "LayoutModel",
          "model_module_version": "1.2.0",
          "state": {
            "_model_module": "@jupyter-widgets/base",
            "_model_module_version": "1.2.0",
            "_model_name": "LayoutModel",
            "_view_count": null,
            "_view_module": "@jupyter-widgets/base",
            "_view_module_version": "1.2.0",
            "_view_name": "LayoutView",
            "align_content": null,
            "align_items": null,
            "align_self": null,
            "border": null,
            "bottom": null,
            "display": null,
            "flex": null,
            "flex_flow": null,
            "grid_area": null,
            "grid_auto_columns": null,
            "grid_auto_flow": null,
            "grid_auto_rows": null,
            "grid_column": null,
            "grid_gap": null,
            "grid_row": null,
            "grid_template_areas": null,
            "grid_template_columns": null,
            "grid_template_rows": null,
            "height": null,
            "justify_content": null,
            "justify_items": null,
            "left": null,
            "margin": null,
            "max_height": null,
            "max_width": null,
            "min_height": null,
            "min_width": null,
            "object_fit": null,
            "object_position": null,
            "order": null,
            "overflow": null,
            "overflow_x": null,
            "overflow_y": null,
            "padding": null,
            "right": null,
            "top": null,
            "visibility": null,
            "width": null
          }
        },
        "ce9dd6e6c8e14ebf893b3133cde061e9": {
          "model_module": "@jupyter-widgets/base",
          "model_name": "LayoutModel",
          "model_module_version": "1.2.0",
          "state": {
            "_model_module": "@jupyter-widgets/base",
            "_model_module_version": "1.2.0",
            "_model_name": "LayoutModel",
            "_view_count": null,
            "_view_module": "@jupyter-widgets/base",
            "_view_module_version": "1.2.0",
            "_view_name": "LayoutView",
            "align_content": null,
            "align_items": null,
            "align_self": null,
            "border": null,
            "bottom": null,
            "display": null,
            "flex": null,
            "flex_flow": null,
            "grid_area": null,
            "grid_auto_columns": null,
            "grid_auto_flow": null,
            "grid_auto_rows": null,
            "grid_column": null,
            "grid_gap": null,
            "grid_row": null,
            "grid_template_areas": null,
            "grid_template_columns": null,
            "grid_template_rows": null,
            "height": null,
            "justify_content": null,
            "justify_items": null,
            "left": null,
            "margin": null,
            "max_height": null,
            "max_width": null,
            "min_height": null,
            "min_width": null,
            "object_fit": null,
            "object_position": null,
            "order": null,
            "overflow": null,
            "overflow_x": null,
            "overflow_y": null,
            "padding": null,
            "right": null,
            "top": null,
            "visibility": null,
            "width": null
          }
        },
        "8b4c13a40fc043398b3adc69533ad8d9": {
          "model_module": "@jupyter-widgets/controls",
          "model_name": "DescriptionStyleModel",
          "model_module_version": "1.5.0",
          "state": {
            "_model_module": "@jupyter-widgets/controls",
            "_model_module_version": "1.5.0",
            "_model_name": "DescriptionStyleModel",
            "_view_count": null,
            "_view_module": "@jupyter-widgets/base",
            "_view_module_version": "1.2.0",
            "_view_name": "StyleView",
            "description_width": ""
          }
        },
        "49189aa7d98b4c829153077897b92dc4": {
          "model_module": "@jupyter-widgets/base",
          "model_name": "LayoutModel",
          "model_module_version": "1.2.0",
          "state": {
            "_model_module": "@jupyter-widgets/base",
            "_model_module_version": "1.2.0",
            "_model_name": "LayoutModel",
            "_view_count": null,
            "_view_module": "@jupyter-widgets/base",
            "_view_module_version": "1.2.0",
            "_view_name": "LayoutView",
            "align_content": null,
            "align_items": null,
            "align_self": null,
            "border": null,
            "bottom": null,
            "display": null,
            "flex": null,
            "flex_flow": null,
            "grid_area": null,
            "grid_auto_columns": null,
            "grid_auto_flow": null,
            "grid_auto_rows": null,
            "grid_column": null,
            "grid_gap": null,
            "grid_row": null,
            "grid_template_areas": null,
            "grid_template_columns": null,
            "grid_template_rows": null,
            "height": null,
            "justify_content": null,
            "justify_items": null,
            "left": null,
            "margin": null,
            "max_height": null,
            "max_width": null,
            "min_height": null,
            "min_width": null,
            "object_fit": null,
            "object_position": null,
            "order": null,
            "overflow": null,
            "overflow_x": null,
            "overflow_y": null,
            "padding": null,
            "right": null,
            "top": null,
            "visibility": null,
            "width": null
          }
        },
        "cd3369e01180405da390d64d3fe513e7": {
          "model_module": "@jupyter-widgets/controls",
          "model_name": "ProgressStyleModel",
          "model_module_version": "1.5.0",
          "state": {
            "_model_module": "@jupyter-widgets/controls",
            "_model_module_version": "1.5.0",
            "_model_name": "ProgressStyleModel",
            "_view_count": null,
            "_view_module": "@jupyter-widgets/base",
            "_view_module_version": "1.2.0",
            "_view_name": "StyleView",
            "bar_color": null,
            "description_width": ""
          }
        },
        "8e1476f2d97341da96284894ca8b2606": {
          "model_module": "@jupyter-widgets/base",
          "model_name": "LayoutModel",
          "model_module_version": "1.2.0",
          "state": {
            "_model_module": "@jupyter-widgets/base",
            "_model_module_version": "1.2.0",
            "_model_name": "LayoutModel",
            "_view_count": null,
            "_view_module": "@jupyter-widgets/base",
            "_view_module_version": "1.2.0",
            "_view_name": "LayoutView",
            "align_content": null,
            "align_items": null,
            "align_self": null,
            "border": null,
            "bottom": null,
            "display": null,
            "flex": null,
            "flex_flow": null,
            "grid_area": null,
            "grid_auto_columns": null,
            "grid_auto_flow": null,
            "grid_auto_rows": null,
            "grid_column": null,
            "grid_gap": null,
            "grid_row": null,
            "grid_template_areas": null,
            "grid_template_columns": null,
            "grid_template_rows": null,
            "height": null,
            "justify_content": null,
            "justify_items": null,
            "left": null,
            "margin": null,
            "max_height": null,
            "max_width": null,
            "min_height": null,
            "min_width": null,
            "object_fit": null,
            "object_position": null,
            "order": null,
            "overflow": null,
            "overflow_x": null,
            "overflow_y": null,
            "padding": null,
            "right": null,
            "top": null,
            "visibility": null,
            "width": null
          }
        },
        "25647c16eecf4dbe960eec27684eebfa": {
          "model_module": "@jupyter-widgets/controls",
          "model_name": "DescriptionStyleModel",
          "model_module_version": "1.5.0",
          "state": {
            "_model_module": "@jupyter-widgets/controls",
            "_model_module_version": "1.5.0",
            "_model_name": "DescriptionStyleModel",
            "_view_count": null,
            "_view_module": "@jupyter-widgets/base",
            "_view_module_version": "1.2.0",
            "_view_name": "StyleView",
            "description_width": ""
          }
        },
        "82a2e85b08c449a0a80528d6193c8cff": {
          "model_module": "@jupyter-widgets/controls",
          "model_name": "HBoxModel",
          "model_module_version": "1.5.0",
          "state": {
            "_dom_classes": [],
            "_model_module": "@jupyter-widgets/controls",
            "_model_module_version": "1.5.0",
            "_model_name": "HBoxModel",
            "_view_count": null,
            "_view_module": "@jupyter-widgets/controls",
            "_view_module_version": "1.5.0",
            "_view_name": "HBoxView",
            "box_style": "",
            "children": [
              "IPY_MODEL_30906c1a50cb442a9b21da048d60c70b",
              "IPY_MODEL_e20bb795218547c18f9363a8017228a4",
              "IPY_MODEL_139e73ff716f42fe953d2e46af090f58"
            ],
            "layout": "IPY_MODEL_3355f82fa64d404e95209dc1492d102e"
          }
        },
        "30906c1a50cb442a9b21da048d60c70b": {
          "model_module": "@jupyter-widgets/controls",
          "model_name": "HTMLModel",
          "model_module_version": "1.5.0",
          "state": {
            "_dom_classes": [],
            "_model_module": "@jupyter-widgets/controls",
            "_model_module_version": "1.5.0",
            "_model_name": "HTMLModel",
            "_view_count": null,
            "_view_module": "@jupyter-widgets/controls",
            "_view_module_version": "1.5.0",
            "_view_name": "HTMLView",
            "description": "",
            "description_tooltip": null,
            "layout": "IPY_MODEL_6720c80bf8ea4416a3f70ae574d4cf83",
            "placeholder": "​",
            "style": "IPY_MODEL_131440c013f34e7089663d0a214920de",
            "value": "100%"
          }
        },
        "e20bb795218547c18f9363a8017228a4": {
          "model_module": "@jupyter-widgets/controls",
          "model_name": "FloatProgressModel",
          "model_module_version": "1.5.0",
          "state": {
            "_dom_classes": [],
            "_model_module": "@jupyter-widgets/controls",
            "_model_module_version": "1.5.0",
            "_model_name": "FloatProgressModel",
            "_view_count": null,
            "_view_module": "@jupyter-widgets/controls",
            "_view_module_version": "1.5.0",
            "_view_name": "ProgressView",
            "bar_style": "success",
            "description": "",
            "description_tooltip": null,
            "layout": "IPY_MODEL_4c28a9944c2548c9831ada4fc93a5b9e",
            "max": 1648877,
            "min": 0,
            "orientation": "horizontal",
            "style": "IPY_MODEL_88cf05cbf2834a7aa14b61b760610fdc",
            "value": 1648877
          }
        },
        "139e73ff716f42fe953d2e46af090f58": {
          "model_module": "@jupyter-widgets/controls",
          "model_name": "HTMLModel",
          "model_module_version": "1.5.0",
          "state": {
            "_dom_classes": [],
            "_model_module": "@jupyter-widgets/controls",
            "_model_module_version": "1.5.0",
            "_model_name": "HTMLModel",
            "_view_count": null,
            "_view_module": "@jupyter-widgets/controls",
            "_view_module_version": "1.5.0",
            "_view_name": "HTMLView",
            "description": "",
            "description_tooltip": null,
            "layout": "IPY_MODEL_b192bfefd49e471b87ca78b535f0a7cb",
            "placeholder": "​",
            "style": "IPY_MODEL_dea8323ef3a149fe8fa867c390f469dc",
            "value": " 1648877/1648877 [00:00&lt;00:00, 10279652.47it/s]"
          }
        },
        "3355f82fa64d404e95209dc1492d102e": {
          "model_module": "@jupyter-widgets/base",
          "model_name": "LayoutModel",
          "model_module_version": "1.2.0",
          "state": {
            "_model_module": "@jupyter-widgets/base",
            "_model_module_version": "1.2.0",
            "_model_name": "LayoutModel",
            "_view_count": null,
            "_view_module": "@jupyter-widgets/base",
            "_view_module_version": "1.2.0",
            "_view_name": "LayoutView",
            "align_content": null,
            "align_items": null,
            "align_self": null,
            "border": null,
            "bottom": null,
            "display": null,
            "flex": null,
            "flex_flow": null,
            "grid_area": null,
            "grid_auto_columns": null,
            "grid_auto_flow": null,
            "grid_auto_rows": null,
            "grid_column": null,
            "grid_gap": null,
            "grid_row": null,
            "grid_template_areas": null,
            "grid_template_columns": null,
            "grid_template_rows": null,
            "height": null,
            "justify_content": null,
            "justify_items": null,
            "left": null,
            "margin": null,
            "max_height": null,
            "max_width": null,
            "min_height": null,
            "min_width": null,
            "object_fit": null,
            "object_position": null,
            "order": null,
            "overflow": null,
            "overflow_x": null,
            "overflow_y": null,
            "padding": null,
            "right": null,
            "top": null,
            "visibility": null,
            "width": null
          }
        },
        "6720c80bf8ea4416a3f70ae574d4cf83": {
          "model_module": "@jupyter-widgets/base",
          "model_name": "LayoutModel",
          "model_module_version": "1.2.0",
          "state": {
            "_model_module": "@jupyter-widgets/base",
            "_model_module_version": "1.2.0",
            "_model_name": "LayoutModel",
            "_view_count": null,
            "_view_module": "@jupyter-widgets/base",
            "_view_module_version": "1.2.0",
            "_view_name": "LayoutView",
            "align_content": null,
            "align_items": null,
            "align_self": null,
            "border": null,
            "bottom": null,
            "display": null,
            "flex": null,
            "flex_flow": null,
            "grid_area": null,
            "grid_auto_columns": null,
            "grid_auto_flow": null,
            "grid_auto_rows": null,
            "grid_column": null,
            "grid_gap": null,
            "grid_row": null,
            "grid_template_areas": null,
            "grid_template_columns": null,
            "grid_template_rows": null,
            "height": null,
            "justify_content": null,
            "justify_items": null,
            "left": null,
            "margin": null,
            "max_height": null,
            "max_width": null,
            "min_height": null,
            "min_width": null,
            "object_fit": null,
            "object_position": null,
            "order": null,
            "overflow": null,
            "overflow_x": null,
            "overflow_y": null,
            "padding": null,
            "right": null,
            "top": null,
            "visibility": null,
            "width": null
          }
        },
        "131440c013f34e7089663d0a214920de": {
          "model_module": "@jupyter-widgets/controls",
          "model_name": "DescriptionStyleModel",
          "model_module_version": "1.5.0",
          "state": {
            "_model_module": "@jupyter-widgets/controls",
            "_model_module_version": "1.5.0",
            "_model_name": "DescriptionStyleModel",
            "_view_count": null,
            "_view_module": "@jupyter-widgets/base",
            "_view_module_version": "1.2.0",
            "_view_name": "StyleView",
            "description_width": ""
          }
        },
        "4c28a9944c2548c9831ada4fc93a5b9e": {
          "model_module": "@jupyter-widgets/base",
          "model_name": "LayoutModel",
          "model_module_version": "1.2.0",
          "state": {
            "_model_module": "@jupyter-widgets/base",
            "_model_module_version": "1.2.0",
            "_model_name": "LayoutModel",
            "_view_count": null,
            "_view_module": "@jupyter-widgets/base",
            "_view_module_version": "1.2.0",
            "_view_name": "LayoutView",
            "align_content": null,
            "align_items": null,
            "align_self": null,
            "border": null,
            "bottom": null,
            "display": null,
            "flex": null,
            "flex_flow": null,
            "grid_area": null,
            "grid_auto_columns": null,
            "grid_auto_flow": null,
            "grid_auto_rows": null,
            "grid_column": null,
            "grid_gap": null,
            "grid_row": null,
            "grid_template_areas": null,
            "grid_template_columns": null,
            "grid_template_rows": null,
            "height": null,
            "justify_content": null,
            "justify_items": null,
            "left": null,
            "margin": null,
            "max_height": null,
            "max_width": null,
            "min_height": null,
            "min_width": null,
            "object_fit": null,
            "object_position": null,
            "order": null,
            "overflow": null,
            "overflow_x": null,
            "overflow_y": null,
            "padding": null,
            "right": null,
            "top": null,
            "visibility": null,
            "width": null
          }
        },
        "88cf05cbf2834a7aa14b61b760610fdc": {
          "model_module": "@jupyter-widgets/controls",
          "model_name": "ProgressStyleModel",
          "model_module_version": "1.5.0",
          "state": {
            "_model_module": "@jupyter-widgets/controls",
            "_model_module_version": "1.5.0",
            "_model_name": "ProgressStyleModel",
            "_view_count": null,
            "_view_module": "@jupyter-widgets/base",
            "_view_module_version": "1.2.0",
            "_view_name": "StyleView",
            "bar_color": null,
            "description_width": ""
          }
        },
        "b192bfefd49e471b87ca78b535f0a7cb": {
          "model_module": "@jupyter-widgets/base",
          "model_name": "LayoutModel",
          "model_module_version": "1.2.0",
          "state": {
            "_model_module": "@jupyter-widgets/base",
            "_model_module_version": "1.2.0",
            "_model_name": "LayoutModel",
            "_view_count": null,
            "_view_module": "@jupyter-widgets/base",
            "_view_module_version": "1.2.0",
            "_view_name": "LayoutView",
            "align_content": null,
            "align_items": null,
            "align_self": null,
            "border": null,
            "bottom": null,
            "display": null,
            "flex": null,
            "flex_flow": null,
            "grid_area": null,
            "grid_auto_columns": null,
            "grid_auto_flow": null,
            "grid_auto_rows": null,
            "grid_column": null,
            "grid_gap": null,
            "grid_row": null,
            "grid_template_areas": null,
            "grid_template_columns": null,
            "grid_template_rows": null,
            "height": null,
            "justify_content": null,
            "justify_items": null,
            "left": null,
            "margin": null,
            "max_height": null,
            "max_width": null,
            "min_height": null,
            "min_width": null,
            "object_fit": null,
            "object_position": null,
            "order": null,
            "overflow": null,
            "overflow_x": null,
            "overflow_y": null,
            "padding": null,
            "right": null,
            "top": null,
            "visibility": null,
            "width": null
          }
        },
        "dea8323ef3a149fe8fa867c390f469dc": {
          "model_module": "@jupyter-widgets/controls",
          "model_name": "DescriptionStyleModel",
          "model_module_version": "1.5.0",
          "state": {
            "_model_module": "@jupyter-widgets/controls",
            "_model_module_version": "1.5.0",
            "_model_name": "DescriptionStyleModel",
            "_view_count": null,
            "_view_module": "@jupyter-widgets/base",
            "_view_module_version": "1.2.0",
            "_view_name": "StyleView",
            "description_width": ""
          }
        },
        "32582f8bfe6a4f74a84484a63634d116": {
          "model_module": "@jupyter-widgets/controls",
          "model_name": "HBoxModel",
          "model_module_version": "1.5.0",
          "state": {
            "_dom_classes": [],
            "_model_module": "@jupyter-widgets/controls",
            "_model_module_version": "1.5.0",
            "_model_name": "HBoxModel",
            "_view_count": null,
            "_view_module": "@jupyter-widgets/controls",
            "_view_module_version": "1.5.0",
            "_view_name": "HBoxView",
            "box_style": "",
            "children": [
              "IPY_MODEL_3ca2ca73a11f4282a1e39ef09f01ad6f",
              "IPY_MODEL_fb868b8da58345449be623f5bdc38e66",
              "IPY_MODEL_db1683d5c99c4e10bcad5d678b08cf69"
            ],
            "layout": "IPY_MODEL_62f31c4fcdbd44bd81c03dbd251470e1"
          }
        },
        "3ca2ca73a11f4282a1e39ef09f01ad6f": {
          "model_module": "@jupyter-widgets/controls",
          "model_name": "HTMLModel",
          "model_module_version": "1.5.0",
          "state": {
            "_dom_classes": [],
            "_model_module": "@jupyter-widgets/controls",
            "_model_module_version": "1.5.0",
            "_model_name": "HTMLModel",
            "_view_count": null,
            "_view_module": "@jupyter-widgets/controls",
            "_view_module_version": "1.5.0",
            "_view_name": "HTMLView",
            "description": "",
            "description_tooltip": null,
            "layout": "IPY_MODEL_7cbb037e3d6449018d60fc59c6b81865",
            "placeholder": "​",
            "style": "IPY_MODEL_7ac29526ac1049f0a8ea4bc4e0401d46",
            "value": "100%"
          }
        },
        "fb868b8da58345449be623f5bdc38e66": {
          "model_module": "@jupyter-widgets/controls",
          "model_name": "FloatProgressModel",
          "model_module_version": "1.5.0",
          "state": {
            "_dom_classes": [],
            "_model_module": "@jupyter-widgets/controls",
            "_model_module_version": "1.5.0",
            "_model_name": "FloatProgressModel",
            "_view_count": null,
            "_view_module": "@jupyter-widgets/controls",
            "_view_module_version": "1.5.0",
            "_view_name": "ProgressView",
            "bar_style": "success",
            "description": "",
            "description_tooltip": null,
            "layout": "IPY_MODEL_9b8ab5a1edd94750a844306532416cd5",
            "max": 4542,
            "min": 0,
            "orientation": "horizontal",
            "style": "IPY_MODEL_f01e39d0b6a648229ae794660633e781",
            "value": 4542
          }
        },
        "db1683d5c99c4e10bcad5d678b08cf69": {
          "model_module": "@jupyter-widgets/controls",
          "model_name": "HTMLModel",
          "model_module_version": "1.5.0",
          "state": {
            "_dom_classes": [],
            "_model_module": "@jupyter-widgets/controls",
            "_model_module_version": "1.5.0",
            "_model_name": "HTMLModel",
            "_view_count": null,
            "_view_module": "@jupyter-widgets/controls",
            "_view_module_version": "1.5.0",
            "_view_name": "HTMLView",
            "description": "",
            "description_tooltip": null,
            "layout": "IPY_MODEL_829eebd2b5f144b1ac831fafe4be1dd0",
            "placeholder": "​",
            "style": "IPY_MODEL_809aaddb47da4bd98d31c34f25760e33",
            "value": " 4542/4542 [00:00&lt;00:00, 200358.94it/s]"
          }
        },
        "62f31c4fcdbd44bd81c03dbd251470e1": {
          "model_module": "@jupyter-widgets/base",
          "model_name": "LayoutModel",
          "model_module_version": "1.2.0",
          "state": {
            "_model_module": "@jupyter-widgets/base",
            "_model_module_version": "1.2.0",
            "_model_name": "LayoutModel",
            "_view_count": null,
            "_view_module": "@jupyter-widgets/base",
            "_view_module_version": "1.2.0",
            "_view_name": "LayoutView",
            "align_content": null,
            "align_items": null,
            "align_self": null,
            "border": null,
            "bottom": null,
            "display": null,
            "flex": null,
            "flex_flow": null,
            "grid_area": null,
            "grid_auto_columns": null,
            "grid_auto_flow": null,
            "grid_auto_rows": null,
            "grid_column": null,
            "grid_gap": null,
            "grid_row": null,
            "grid_template_areas": null,
            "grid_template_columns": null,
            "grid_template_rows": null,
            "height": null,
            "justify_content": null,
            "justify_items": null,
            "left": null,
            "margin": null,
            "max_height": null,
            "max_width": null,
            "min_height": null,
            "min_width": null,
            "object_fit": null,
            "object_position": null,
            "order": null,
            "overflow": null,
            "overflow_x": null,
            "overflow_y": null,
            "padding": null,
            "right": null,
            "top": null,
            "visibility": null,
            "width": null
          }
        },
        "7cbb037e3d6449018d60fc59c6b81865": {
          "model_module": "@jupyter-widgets/base",
          "model_name": "LayoutModel",
          "model_module_version": "1.2.0",
          "state": {
            "_model_module": "@jupyter-widgets/base",
            "_model_module_version": "1.2.0",
            "_model_name": "LayoutModel",
            "_view_count": null,
            "_view_module": "@jupyter-widgets/base",
            "_view_module_version": "1.2.0",
            "_view_name": "LayoutView",
            "align_content": null,
            "align_items": null,
            "align_self": null,
            "border": null,
            "bottom": null,
            "display": null,
            "flex": null,
            "flex_flow": null,
            "grid_area": null,
            "grid_auto_columns": null,
            "grid_auto_flow": null,
            "grid_auto_rows": null,
            "grid_column": null,
            "grid_gap": null,
            "grid_row": null,
            "grid_template_areas": null,
            "grid_template_columns": null,
            "grid_template_rows": null,
            "height": null,
            "justify_content": null,
            "justify_items": null,
            "left": null,
            "margin": null,
            "max_height": null,
            "max_width": null,
            "min_height": null,
            "min_width": null,
            "object_fit": null,
            "object_position": null,
            "order": null,
            "overflow": null,
            "overflow_x": null,
            "overflow_y": null,
            "padding": null,
            "right": null,
            "top": null,
            "visibility": null,
            "width": null
          }
        },
        "7ac29526ac1049f0a8ea4bc4e0401d46": {
          "model_module": "@jupyter-widgets/controls",
          "model_name": "DescriptionStyleModel",
          "model_module_version": "1.5.0",
          "state": {
            "_model_module": "@jupyter-widgets/controls",
            "_model_module_version": "1.5.0",
            "_model_name": "DescriptionStyleModel",
            "_view_count": null,
            "_view_module": "@jupyter-widgets/base",
            "_view_module_version": "1.2.0",
            "_view_name": "StyleView",
            "description_width": ""
          }
        },
        "9b8ab5a1edd94750a844306532416cd5": {
          "model_module": "@jupyter-widgets/base",
          "model_name": "LayoutModel",
          "model_module_version": "1.2.0",
          "state": {
            "_model_module": "@jupyter-widgets/base",
            "_model_module_version": "1.2.0",
            "_model_name": "LayoutModel",
            "_view_count": null,
            "_view_module": "@jupyter-widgets/base",
            "_view_module_version": "1.2.0",
            "_view_name": "LayoutView",
            "align_content": null,
            "align_items": null,
            "align_self": null,
            "border": null,
            "bottom": null,
            "display": null,
            "flex": null,
            "flex_flow": null,
            "grid_area": null,
            "grid_auto_columns": null,
            "grid_auto_flow": null,
            "grid_auto_rows": null,
            "grid_column": null,
            "grid_gap": null,
            "grid_row": null,
            "grid_template_areas": null,
            "grid_template_columns": null,
            "grid_template_rows": null,
            "height": null,
            "justify_content": null,
            "justify_items": null,
            "left": null,
            "margin": null,
            "max_height": null,
            "max_width": null,
            "min_height": null,
            "min_width": null,
            "object_fit": null,
            "object_position": null,
            "order": null,
            "overflow": null,
            "overflow_x": null,
            "overflow_y": null,
            "padding": null,
            "right": null,
            "top": null,
            "visibility": null,
            "width": null
          }
        },
        "f01e39d0b6a648229ae794660633e781": {
          "model_module": "@jupyter-widgets/controls",
          "model_name": "ProgressStyleModel",
          "model_module_version": "1.5.0",
          "state": {
            "_model_module": "@jupyter-widgets/controls",
            "_model_module_version": "1.5.0",
            "_model_name": "ProgressStyleModel",
            "_view_count": null,
            "_view_module": "@jupyter-widgets/base",
            "_view_module_version": "1.2.0",
            "_view_name": "StyleView",
            "bar_color": null,
            "description_width": ""
          }
        },
        "829eebd2b5f144b1ac831fafe4be1dd0": {
          "model_module": "@jupyter-widgets/base",
          "model_name": "LayoutModel",
          "model_module_version": "1.2.0",
          "state": {
            "_model_module": "@jupyter-widgets/base",
            "_model_module_version": "1.2.0",
            "_model_name": "LayoutModel",
            "_view_count": null,
            "_view_module": "@jupyter-widgets/base",
            "_view_module_version": "1.2.0",
            "_view_name": "LayoutView",
            "align_content": null,
            "align_items": null,
            "align_self": null,
            "border": null,
            "bottom": null,
            "display": null,
            "flex": null,
            "flex_flow": null,
            "grid_area": null,
            "grid_auto_columns": null,
            "grid_auto_flow": null,
            "grid_auto_rows": null,
            "grid_column": null,
            "grid_gap": null,
            "grid_row": null,
            "grid_template_areas": null,
            "grid_template_columns": null,
            "grid_template_rows": null,
            "height": null,
            "justify_content": null,
            "justify_items": null,
            "left": null,
            "margin": null,
            "max_height": null,
            "max_width": null,
            "min_height": null,
            "min_width": null,
            "object_fit": null,
            "object_position": null,
            "order": null,
            "overflow": null,
            "overflow_x": null,
            "overflow_y": null,
            "padding": null,
            "right": null,
            "top": null,
            "visibility": null,
            "width": null
          }
        },
        "809aaddb47da4bd98d31c34f25760e33": {
          "model_module": "@jupyter-widgets/controls",
          "model_name": "DescriptionStyleModel",
          "model_module_version": "1.5.0",
          "state": {
            "_model_module": "@jupyter-widgets/controls",
            "_model_module_version": "1.5.0",
            "_model_name": "DescriptionStyleModel",
            "_view_count": null,
            "_view_module": "@jupyter-widgets/base",
            "_view_module_version": "1.2.0",
            "_view_name": "StyleView",
            "description_width": ""
          }
        }
      }
    }
  },
  "nbformat": 4,
  "nbformat_minor": 0
}