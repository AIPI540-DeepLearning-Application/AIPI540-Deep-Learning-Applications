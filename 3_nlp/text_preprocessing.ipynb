{
 "cells": [
  {
   "cell_type": "markdown",
   "metadata": {},
   "source": [
    "<a href='https://ai.meng.duke.edu'> = <img align=\"left\" style=\"padding-top:10px;\" src=https://storage.googleapis.com/aipi_datasets/Duke-AIPI-Logo.png>"
   ]
  },
  {
   "cell_type": "markdown",
   "metadata": {},
   "source": [
    "# Text Pre-processing\n",
    "Text is messy, and a lot of work needs to be done to pre-process it before it is useful for modeling.  Generally a text pre-processing pipeline will include at least the following steps:  \n",
    "- Tokenizing the text - splitting it into words and punctuation\n",
    "- Remove stop words and punctuation  \n",
    "- Convert words to root words using lemmatization or stemming  \n",
    "\n",
    "This notebook walks through a basic example of how to perform those steps using two common NLP libraries: [NLTK](https://www.nltk.org) and spaCy (https://spacy.io).\n"
   ]
  },
  {
   "cell_type": "code",
   "execution_count": 5,
   "metadata": {},
   "outputs": [
    {
     "name": "stderr",
     "output_type": "stream",
     "text": [
      "[nltk_data] Downloading package omw-1.4 to /Users/jjr10/nltk_data...\n",
      "[nltk_data]   Package omw-1.4 is already up-to-date!\n"
     ]
    }
   ],
   "source": [
    "import string\n",
    "\n",
    "# Import Spacy and download model to use\n",
    "import spacy\n",
    "#!python -m spacy download en_core_web_sm\n",
    "\n",
    "# Import NLTK and download model to use\n",
    "import nltk\n",
    "nltk.download('omw-1.4')\n",
    "\n",
    "import warnings\n",
    "warnings.filterwarnings('ignore')"
   ]
  },
  {
   "cell_type": "code",
   "execution_count": 130,
   "metadata": {},
   "outputs": [],
   "source": [
    "example_doc = '''I saw some geese near the pond. Then they took off flying.'''"
   ]
  },
  {
   "cell_type": "markdown",
   "metadata": {},
   "source": [
    "## NLTK\n",
    "Let's first use NLTK to pre-process our text.  We'll start by tokenizing our sentence, then remove punctuation and stop words, and then we will lemmatize the tokens to get the root words.\n",
    "\n",
    "### Tokenization"
   ]
  },
  {
   "cell_type": "code",
   "execution_count": 131,
   "metadata": {},
   "outputs": [
    {
     "name": "stdout",
     "output_type": "stream",
     "text": [
      "['I', 'saw', 'some', 'geese', 'near', 'the', 'pond', '.', 'Then', 'they', 'took', 'off', 'flying', '.']\n"
     ]
    }
   ],
   "source": [
    "# Convert to tokens\n",
    "tokens = nltk.word_tokenize(example_doc)\n",
    "\n",
    "print(tokens)"
   ]
  },
  {
   "cell_type": "markdown",
   "metadata": {},
   "source": [
    "### Remove stop words & punctuation"
   ]
  },
  {
   "cell_type": "code",
   "execution_count": 172,
   "metadata": {},
   "outputs": [
    {
     "name": "stdout",
     "output_type": "stream",
     "text": [
      "{'she', \"hasn't\", 'but', 'hasn', 'because', \"you're\", \"don't\", 'he', 'ours', 'shouldn', 'when', \"you'll\", 'isn', 'from', 'where', 'any', 'no', 'few', \"isn't\", 'them', 'up', 'won', 'yourself', 'only', 'haven', 'don', 'ain', 'an', 'on', 'while', 'all', 'why', 'wouldn', 'did', 'then', 'himself', 'there', 'now', 'couldn', 'in', 'hadn', 's', 'd', 'is', 'if', 'through', 'which', 'o', 'here', \"haven't\", 'under', 'been', 'mightn', 'wasn', 'i', 'his', \"shouldn't\", \"wasn't\", 'we', 'needn', 'this', 'once', 'll', 'just', \"shan't\", 'can', 'themselves', \"couldn't\", 'm', 'below', 'by', 'out', \"mightn't\", \"it's\", 'at', \"wouldn't\", 't', 'your', 'such', 'over', \"you've\", 'was', 'has', 'above', 've', 'their', \"doesn't\", 'during', 'have', 'and', 'be', 'between', 'ma', \"needn't\", \"weren't\", 'her', 'those', 'having', 'the', \"won't\", 'itself', \"she's\", 'him', 'will', 'further', 'other', 'whom', \"should've\", 'about', 'same', \"you'd\", 'too', 'y', \"aren't\", 'theirs', 'or', 'myself', 'who', 'these', 'than', 'being', 'more', 'weren', 'what', 'nor', 'how', 'they', 'ourselves', 'so', 'each', 'yourselves', 'before', 're', 'some', 'should', 'not', 'mustn', \"hadn't\", 'that', 'until', 'against', 'as', 'am', 'down', 'doing', 'our', 'do', 'very', 'does', 'were', 'its', 'shan', 'again', 'own', 'aren', 'doesn', 'me', \"mustn't\", \"didn't\", 'after', 'didn', 'for', 'yours', 'of', 'both', 'with', 'herself', 'off', 'it', 'hers', 'into', 'are', 'had', \"that'll\", 'my', 'you', 'to', 'most', 'a'}\n"
     ]
    }
   ],
   "source": [
    "from nltk.corpus import stopwords\n",
    "stop_words = set(stopwords.words('english'))\n",
    "print(stop_words)"
   ]
  },
  {
   "cell_type": "code",
   "execution_count": 173,
   "metadata": {},
   "outputs": [
    {
     "name": "stdout",
     "output_type": "stream",
     "text": [
      "['geese', 'near', 'pond', 'fly']\n"
     ]
    }
   ],
   "source": [
    "punctuations = string.punctuation\n",
    "\n",
    "# Filter out stop words and punctuation\n",
    "tokens = [w for w in tokens if w.lower() not in stop_words and w not in punctuations]\n",
    " \n",
    "print(tokens)"
   ]
  },
  {
   "cell_type": "markdown",
   "metadata": {},
   "source": [
    "### Lemmatize"
   ]
  },
  {
   "cell_type": "code",
   "execution_count": 174,
   "metadata": {},
   "outputs": [
    {
     "name": "stdout",
     "output_type": "stream",
     "text": [
      "['goose', 'near', 'pond', 'fly']\n"
     ]
    }
   ],
   "source": [
    "from nltk.stem import WordNetLemmatizer\n",
    "wordnet_lemmatizer = WordNetLemmatizer()\n",
    "tokens = [wordnet_lemmatizer.lemmatize(word).lower().strip() for word in tokens]\n",
    "print(tokens)\n"
   ]
  },
  {
   "cell_type": "code",
   "execution_count": 175,
   "metadata": {},
   "outputs": [
    {
     "name": "stdout",
     "output_type": "stream",
     "text": [
      "Original:\n",
      "I saw some geese near the pond. Then they took off flying.\n",
      "Processed:\n",
      "goose near pond fly\n"
     ]
    }
   ],
   "source": [
    "# Combine the filtered lemmas back into a string\n",
    "doc_processed = \" \".join([i for i in tokens])\n",
    "\n",
    "print('Original:')\n",
    "print(example_doc)\n",
    "print('Processed:')\n",
    "print(doc_processed)"
   ]
  },
  {
   "cell_type": "markdown",
   "metadata": {},
   "source": [
    "## SpaCy\n",
    "Let's now walk through our simple example using spaCy.  With spaCy, we'll first tokenize as we did with NLTK.  But since spaCy's tokens are a bit different than NLTK (NLTK just creates string tokens, while spaCy's tokens contain lots of additional useful information on each word such as part-of-speech, root etc.), we will next use the spaCy tokens to extract the lemmas, and then remove stop words and punctuation from the list of string lemmas.\n",
    "### Tokenization"
   ]
  },
  {
   "cell_type": "code",
   "execution_count": 176,
   "metadata": {},
   "outputs": [
    {
     "name": "stdout",
     "output_type": "stream",
     "text": [
      "[I, saw, some, geese, near, the, pond, ., Then, they, took, off, flying, .]\n"
     ]
    }
   ],
   "source": [
    "# Process sentence\n",
    "nlp = spacy.load(\"en_core_web_sm\")\n",
    "doc = nlp(example_doc)\n",
    "# Get tokens\n",
    "tokens = [token for token in doc]\n",
    "\n",
    "print(tokens)"
   ]
  },
  {
   "cell_type": "markdown",
   "metadata": {},
   "source": [
    "### Lemmatization"
   ]
  },
  {
   "cell_type": "code",
   "execution_count": 177,
   "metadata": {},
   "outputs": [
    {
     "name": "stdout",
     "output_type": "stream",
     "text": [
      "['i', 'see', 'some', 'geese', 'near', 'the', 'pond', '.', 'then', 'they', 'take', 'off', 'fly', '.']\n"
     ]
    }
   ],
   "source": [
    "# Extract the lemmas for each token\n",
    "tokens = [token.lemma_.lower().strip() for token in tokens]\n",
    "print(tokens)"
   ]
  },
  {
   "cell_type": "markdown",
   "metadata": {},
   "source": [
    "### Remove stop words and punctuation"
   ]
  },
  {
   "cell_type": "code",
   "execution_count": 178,
   "metadata": {},
   "outputs": [
    {
     "name": "stdout",
     "output_type": "stream",
     "text": [
      "['geese', 'near', 'pond', 'fly']\n"
     ]
    }
   ],
   "source": [
    "from spacy.lang.en.stop_words import STOP_WORDS\n",
    "stopwords = set(STOP_WORDS)\n",
    "punctuations = string.punctuation\n",
    "\n",
    "tokens = [token for token in tokens if token.lower() not in stopwords and token not in punctuations]\n",
    "print(tokens)"
   ]
  },
  {
   "cell_type": "code",
   "execution_count": 179,
   "metadata": {},
   "outputs": [
    {
     "name": "stdout",
     "output_type": "stream",
     "text": [
      "Original:\n",
      "I saw some geese near the pond. Then they took off flying.\n",
      "Processed:\n",
      "geese near pond fly\n"
     ]
    }
   ],
   "source": [
    "# Combine the filtered lemmas back into a string\n",
    "doc_processed = \" \".join([i for i in tokens])\n",
    "\n",
    "print('Original:')\n",
    "print(example_doc)\n",
    "print('Processed:')\n",
    "print(doc_processed)"
   ]
  }
 ],
 "metadata": {
  "kernelspec": {
   "display_name": "Python 3",
   "language": "python",
   "name": "python3"
  },
  "language_info": {
   "codemirror_mode": {
    "name": "ipython",
    "version": 3
   },
   "file_extension": ".py",
   "mimetype": "text/x-python",
   "name": "python",
   "nbconvert_exporter": "python",
   "pygments_lexer": "ipython3",
   "version": "3.9.7"
  }
 },
 "nbformat": 4,
 "nbformat_minor": 4
}
